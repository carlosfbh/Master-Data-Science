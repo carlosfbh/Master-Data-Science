{
 "cells": [
  {
   "cell_type": "markdown",
   "metadata": {},
   "source": [
    "# Count the number of lines in Python for each file"
   ]
  },
  {
   "cell_type": "code",
   "execution_count": 34,
   "metadata": {
    "collapsed": true
   },
   "outputs": [],
   "source": [
    "path_to_zips = \"../data/Challenge\""
   ]
  },
  {
   "cell_type": "markdown",
   "metadata": {},
   "source": [
    "## 1) Command Line\n",
    "\n",
    "Use shell commands with the `!` notation to count the number of lines in `bookings.csv.bz2` and `searches.csv.bz2`."
   ]
  },
  {
   "cell_type": "code",
   "execution_count": 35,
   "metadata": {},
   "outputs": [
    {
     "name": "stdout",
     "output_type": "stream",
     "text": [
      "total 2121264\r\n",
      "-rw-r--r--@ 1 aalmagro  staff  554970628  5 may 08:57 bookings.csv.bz2\r\n",
      "-rw-r--r--  1 aalmagro  staff   42445466  5 may 10:11 bookings.sample.csv\r\n",
      "-rw-r--r--  1 aalmagro  staff    5473249  5 may 10:00 bookings.sample.csv.bz2\r\n",
      "-rw-r--r--@ 1 aalmagro  staff  483188920  5 may 08:58 searches.csv.bz2\r\n"
     ]
    }
   ],
   "source": [
    "! ls -l {path_to_zips}"
   ]
  },
  {
   "cell_type": "code",
   "execution_count": 22,
   "metadata": {},
   "outputs": [
    {
     "name": "stdout",
     "output_type": "stream",
     "text": [
      " 10000011\r\n"
     ]
    }
   ],
   "source": [
    "!bzcat {path_to_zips}bookings.csv.bz2 | wc -l"
   ]
  },
  {
   "cell_type": "markdown",
   "metadata": {},
   "source": [
    "That took a while... Let's make a 100000 line sample for the duration of this class:\n",
    "\n",
    "```shell\n",
    "! bzcat {path_to_zips}bookings.csv.bz2 | head -100000 | bzip2 -c > {path_to_zips}bookings.sample.csv.bz2\n",
    "```"
   ]
  },
  {
   "cell_type": "code",
   "execution_count": 23,
   "metadata": {},
   "outputs": [
    {
     "name": "stdout",
     "output_type": "stream",
     "text": [
      "\r\n",
      "bzcat: I/O or other error, bailing out.  Possible reason follows.\r\n",
      "bzcat: Broken pipe\r\n",
      "\tInput file = ../data/Challenge/bookings.csv.bz2, output file = (stdout)\r\n"
     ]
    }
   ],
   "source": [
    "! bzcat {path_to_zips}bookings.csv.bz2 | head -100000 | bzip2 -c > {path_to_zips}bookings.sample.csv.bz2"
   ]
  },
  {
   "cell_type": "code",
   "execution_count": 25,
   "metadata": {},
   "outputs": [
    {
     "name": "stdout",
     "output_type": "stream",
     "text": [
      "\r\n",
      "bzcat: I/O or other error, bailing out.  Possible reason follows.\r\n",
      "bzcat: Broken pipe\r\n",
      "\tInput file = ../data/Challenge/bookings.csv.bz2, output file = (stdout)\r\n"
     ]
    }
   ],
   "source": [
    "! bzcat {path_to_zips}bookings.csv.bz2 | head -100000 > {path_to_zips}bookings.sample.csv"
   ]
  },
  {
   "cell_type": "code",
   "execution_count": 36,
   "metadata": {},
   "outputs": [
    {
     "name": "stdout",
     "output_type": "stream",
     "text": [
      "total 2121264\r\n",
      "-rw-r--r--@ 1 aalmagro  staff  554970628  5 may 08:57 bookings.csv.bz2\r\n",
      "-rw-r--r--@ 1 aalmagro  staff  483188920  5 may 08:58 searches.csv.bz2\r\n",
      "-rw-r--r--  1 aalmagro  staff    5473249  5 may 10:00 bookings.sample.csv.bz2\r\n",
      "-rw-r--r--  1 aalmagro  staff   42445466  5 may 10:11 bookings.sample.csv\r\n"
     ]
    }
   ],
   "source": [
    "!ls -lrt {path_to_zips}"
   ]
  },
  {
   "cell_type": "code",
   "execution_count": 39,
   "metadata": {
    "collapsed": true
   },
   "outputs": [],
   "source": [
    "testfile=path_to_zips+\"/bookings.sample.csv\""
   ]
  },
  {
   "cell_type": "code",
   "execution_count": 40,
   "metadata": {},
   "outputs": [
    {
     "data": {
      "text/plain": [
       "100000"
      ]
     },
     "execution_count": 40,
     "metadata": {},
     "output_type": "execute_result"
    }
   ],
   "source": [
    "count=0\n",
    "with open(testfile,'r') as file:\n",
    "    for line in file:\n",
    "        count += 1\n",
    "count"
   ]
  },
  {
   "cell_type": "markdown",
   "metadata": {},
   "source": [
    "## 2) Python:"
   ]
  },
  {
   "cell_type": "markdown",
   "metadata": {},
   "source": [
    "We have 2 options:\n",
    "\n",
    "* without uncompressing\n",
    "\n",
    "* uncompressing the whole file, then reading from the result."
   ]
  },
  {
   "cell_type": "markdown",
   "metadata": {},
   "source": [
    "#### Python without uncompressing"
   ]
  },
  {
   "cell_type": "code",
   "execution_count": 41,
   "metadata": {
    "collapsed": true
   },
   "outputs": [],
   "source": [
    "import bz2"
   ]
  },
  {
   "cell_type": "code",
   "execution_count": 42,
   "metadata": {},
   "outputs": [
    {
     "name": "stdout",
     "output_type": "stream",
     "text": [
      "../data/Challenge/bookings.sample.csv.bz2\r\n"
     ]
    }
   ],
   "source": [
    "!ls {path_to_zips}/bookings.sample.csv.bz2"
   ]
  },
  {
   "cell_type": "code",
   "execution_count": 44,
   "metadata": {
    "collapsed": true
   },
   "outputs": [],
   "source": [
    "bookings_path = path_to_zips + \"/bookings.sample.csv.bz2\"\n",
    "\n",
    "bz2_file = bz2.BZ2File(bookings_path)"
   ]
  },
  {
   "cell_type": "code",
   "execution_count": 45,
   "metadata": {},
   "outputs": [
    {
     "name": "stdout",
     "output_type": "stream",
     "text": [
      "../data/Challenge/bookings.sample.csv.bz2 has 100000 lines.\n"
     ]
    }
   ],
   "source": [
    "k=0\n",
    "for line in bz2_file:\n",
    "    k += 1\n",
    "    \n",
    "print(\"%s has %s lines.\" % (bookings_path, k))"
   ]
  },
  {
   "cell_type": "markdown",
   "metadata": {},
   "source": [
    "#### 2b) Python on row uncompressed file"
   ]
  },
  {
   "cell_type": "markdown",
   "metadata": {},
   "source": [
    "First, uncompress the file using shell utilities"
   ]
  },
  {
   "cell_type": "code",
   "execution_count": 46,
   "metadata": {
    "collapsed": true
   },
   "outputs": [],
   "source": [
    "uncompressed_path = '.'.join(bookings_path.split('.')[:-1])\n",
    "\n",
    "!bunzip2 -fc {bookings_path} > {uncompressed_path}"
   ]
  },
  {
   "cell_type": "markdown",
   "metadata": {},
   "source": [
    "Then count the lines:"
   ]
  },
  {
   "cell_type": "code",
   "execution_count": 47,
   "metadata": {},
   "outputs": [
    {
     "name": "stdout",
     "output_type": "stream",
     "text": [
      "../data/Challenge/bookings.sample.csv.bz2 has 100000 lines.\n"
     ]
    },
    {
     "data": {
      "text/plain": [
       "True"
      ]
     },
     "execution_count": 47,
     "metadata": {},
     "output_type": "execute_result"
    }
   ],
   "source": [
    "with open(uncompressed_path, \"r\", encoding='latin-1') as file_input:\n",
    "    k=0\n",
    "    for line in file_input:\n",
    "        k+=1\n",
    "        \n",
    "print (\"%s has %s lines.\"%(bookings_path,k))\n",
    "\n",
    "file_input.closed"
   ]
  },
  {
   "cell_type": "code",
   "execution_count": null,
   "metadata": {
    "collapsed": true
   },
   "outputs": [],
   "source": []
  }
 ],
 "metadata": {
  "kernelspec": {
   "display_name": "Python 3",
   "language": "python",
   "name": "python3"
  },
  "language_info": {
   "codemirror_mode": {
    "name": "ipython",
    "version": 3
   },
   "file_extension": ".py",
   "mimetype": "text/x-python",
   "name": "python",
   "nbconvert_exporter": "python",
   "pygments_lexer": "ipython3",
   "version": "3.6.3"
  }
 },
 "nbformat": 4,
 "nbformat_minor": 1
}
