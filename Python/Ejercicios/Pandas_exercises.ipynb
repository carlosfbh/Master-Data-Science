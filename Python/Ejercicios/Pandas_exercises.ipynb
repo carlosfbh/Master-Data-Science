{
 "cells": [
  {
   "cell_type": "code",
   "execution_count": 1,
   "metadata": {},
   "outputs": [],
   "source": [
    "import pandas as pd\n",
    "import numpy as np"
   ]
  },
  {
   "cell_type": "markdown",
   "metadata": {},
   "source": [
    "#### Exercise\n",
    "\n",
    "Create a Data Frame using a dictionary, and change the index to letters."
   ]
  },
  {
   "cell_type": "code",
   "execution_count": null,
   "metadata": {},
   "outputs": [],
   "source": []
  },
  {
   "cell_type": "markdown",
   "metadata": {},
   "source": [
    "#### Exercise\n",
    "\n",
    "Create a new column and new row in the previous Data Frame.\n",
    "Try also to create a new column with boolean values"
   ]
  },
  {
   "cell_type": "markdown",
   "metadata": {},
   "source": []
  },
  {
   "cell_type": "markdown",
   "metadata": {},
   "source": [
    "#### Exercise\n",
    "\n",
    "Then remove this new column and row"
   ]
  },
  {
   "cell_type": "markdown",
   "metadata": {},
   "source": []
  },
  {
   "cell_type": "markdown",
   "metadata": {},
   "source": [
    "#### Exercise\n",
    "\n",
    "Given the following Data Frame:\n",
    "\n",
    "    df4 = pd.DataFrame(np.random.randn(4,3) * 17 + 15, columns=list('bde'), index=list('BMPZ'))\n",
    "    \n",
    "- Use a lambda function to calculate the difference between max and min per column and per row\n",
    "- Use a lambda function to calculate the 10% for each item in the Data Frame\n",
    "- Use a function in order to return a table with the max and min per column\n",
    "- Use a function to change the format of the numbers to only 2 decimals\n",
    "- Sort the Data Frame according to the values of the first column"
   ]
  },
  {
   "cell_type": "code",
   "execution_count": null,
   "metadata": {},
   "outputs": [],
   "source": []
  },
  {
   "cell_type": "markdown",
   "metadata": {},
   "source": [
    "#### Exercise\n",
    "\n",
    "Write a function that takes a Series and returns the top 10% registers. In this case, earners. Test it with this Series:\n",
    "\n",
    "```python\n",
    "salaries = pd.Series([150000, 90000, 120000,30000,10000,5000,40000, 50000, 80000, 35000, 27000,14000, 28000, 22000,25000])\n",
    "```"
   ]
  },
  {
   "cell_type": "code",
   "execution_count": 6,
   "metadata": {},
   "outputs": [],
   "source": [
    "salaries = pd.Series([150000, 90000, 120000, 30000, 10000, 5000, 40000, 50000, 80000, 35000, 27000, 14000, 28000, 22000, 25000])"
   ]
  },
  {
   "cell_type": "code",
   "execution_count": null,
   "metadata": {},
   "outputs": [],
   "source": []
  },
  {
   "cell_type": "markdown",
   "metadata": {},
   "source": [
    "#### Exercise\n",
    "\n",
    "Given the following Data Frame:\n",
    "\n",
    "    x = pd.Series([1.2, np.nan, 4, np.nan, 9], index=list('abcde'))\n",
    "    y = pd.Series([5, 3, 7, np.nan, 14], index=list('abcde'))\n",
    "    df = pd.DataFrame([x, y], index=['x','y']).T\n",
    "    \n",
    "- Sum the values per column and per row taking and not taking into account NaN\n",
    "- Calculate the mean per column and per row"
   ]
  },
  {
   "cell_type": "code",
   "execution_count": null,
   "metadata": {},
   "outputs": [],
   "source": []
  },
  {
   "cell_type": "markdown",
   "metadata": {},
   "source": [
    "#### Exercise\n",
    "\n",
    "Given the following Data Frame:\n",
    "\n",
    "    array = np.random.randn(8,3) * 20 + 100\n",
    "\n",
    "    df6 = pd.DataFrame(array, columns=list('xyz'), index=list('abcdefgh'))\n",
    "    df6.iloc[2:5, 1] = np.nan\n",
    "    df6.iloc[1:3, 2] = np.nan\n",
    "                       \n",
    "- Return the Data Frame with NO NaN per column and per row\n",
    "- Return the Data Frame with one or less NaN per row. And same per column\n",
    "- Change the values of the NaN with:\n",
    "    - Zero\n",
    "    - Mean per column\n",
    "- Change the Data Frame removing the NaN"
   ]
  },
  {
   "cell_type": "code",
   "execution_count": null,
   "metadata": {},
   "outputs": [],
   "source": []
  }
 ],
 "metadata": {
  "kernelspec": {
   "display_name": "Python 3",
   "language": "python",
   "name": "python3"
  },
  "language_info": {
   "codemirror_mode": {
    "name": "ipython",
    "version": 3
   },
   "file_extension": ".py",
   "mimetype": "text/x-python",
   "name": "python",
   "nbconvert_exporter": "python",
   "pygments_lexer": "ipython3",
   "version": "3.6.4"
  }
 },
 "nbformat": 4,
 "nbformat_minor": 2
}
