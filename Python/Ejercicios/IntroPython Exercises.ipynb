{
 "cells": [
  {
   "cell_type": "markdown",
   "metadata": {},
   "source": [
    "## Quick Exercises 1"
   ]
  },
  {
   "cell_type": "markdown",
   "metadata": {},
   "source": [
    "    1. Implement a function that takes as input three variables, and returns the largest of the three. Do this without using the Python max() function! Make one version without any local variable and another with one local variable. (hint: it might be easier to use edit)"
   ]
  },
  {
   "cell_type": "code",
   "execution_count": 22,
   "metadata": {},
   "outputs": [],
   "source": [
    "def maximo1(num1, num2, num3):\n",
    "    \n",
    "    if num1 >= num2 and num1 >= num3:\n",
    "        return num1\n",
    "    \n",
    "    elif num2 >= num1 and num2 >= num3:\n",
    "        return num2\n",
    "    \n",
    "    else:\n",
    "        return num3\n",
    "    \n",
    "def maximo2(num1, num2, num3):\n",
    "    \n",
    "    if num1 >= num2 and num1 >= num3:\n",
    "        result = num1\n",
    "    \n",
    "    elif num2 >= num1 and num2 >= num3:\n",
    "        result = num2\n",
    "    \n",
    "    else:\n",
    "        result = num3\n",
    "        \n",
    "    return result\n",
    "\n",
    "assert maximo1(1,2,3) == 3\n",
    "assert maximo1(3,2,1) == 3\n",
    "assert maximo1(1,3,2) == 3\n",
    "assert maximo1(1,2,2) == 2\n",
    "\n",
    "assert maximo2(1,2,3) == 3\n",
    "assert maximo2(3,2,1) == 3\n",
    "assert maximo2(1,3,2) == 3\n",
    "assert maximo2(1,2,2) == 2"
   ]
  },
  {
   "cell_type": "markdown",
   "metadata": {},
   "source": [
    "    2. Write a function “centenario” that will take Name, and year of birth as inputs, check if year of birth is int and cast it to int if not, and print name together with the text explaining when the person is to have 100 years (hint: use isinstance)\n",
    "\n",
    "    call to function: centenario(Antonio, 1967)\n",
    "    \n",
    "    output: Antonio will reach 100 years in 2067."
   ]
  },
  {
   "cell_type": "code",
   "execution_count": 1,
   "metadata": {},
   "outputs": [],
   "source": [
    "def centenario(name, year):\n",
    "    \n",
    "    if not isinstance(year, int):\n",
    "        year = int(year)\n",
    "        \n",
    "    return \"%s will reach 100 years in %d\" %(name, year + 100)    "
   ]
  },
  {
   "cell_type": "code",
   "execution_count": 2,
   "metadata": {},
   "outputs": [
    {
     "data": {
      "text/plain": [
       "'Carlos will reach 100 years in 2088'"
      ]
     },
     "execution_count": 2,
     "metadata": {},
     "output_type": "execute_result"
    }
   ],
   "source": [
    "centenario(\"Carlos\", 1988)"
   ]
  },
  {
   "cell_type": "code",
   "execution_count": 3,
   "metadata": {},
   "outputs": [
    {
     "data": {
      "text/plain": [
       "'Carlos will reach 100 years in 2088'"
      ]
     },
     "execution_count": 3,
     "metadata": {},
     "output_type": "execute_result"
    }
   ],
   "source": [
    "centenario(\"Carlos\", \"1988\")"
   ]
  },
  {
   "cell_type": "markdown",
   "metadata": {},
   "source": [
    "## Quick Exercises 2"
   ]
  },
  {
   "cell_type": "markdown",
   "metadata": {},
   "source": [
    "    1. Write a function to calculate the number of words, number of lines, and length of a string the same way the wc command does in the command line"
   ]
  },
  {
   "cell_type": "code",
   "execution_count": 89,
   "metadata": {},
   "outputs": [
    {
     "name": "stdout",
     "output_type": "stream",
     "text": [
      "      9      87     554\r\n"
     ]
    }
   ],
   "source": [
    "#Voy a poner este fichero como ejemplo y comprobación\n",
    "%cat ~/exercises_pg20.txt | wc "
   ]
  },
  {
   "cell_type": "code",
   "execution_count": 90,
   "metadata": {},
   "outputs": [],
   "source": [
    "def wordcount(text):\n",
    "    \n",
    "    lines = len(text.splitlines())\n",
    "    words = len(text.split(\" \"))\n",
    "    length = len(text)\n",
    "    \n",
    "    return lines, words, length"
   ]
  },
  {
   "cell_type": "code",
   "execution_count": 91,
   "metadata": {},
   "outputs": [
    {
     "name": "stdout",
     "output_type": "stream",
     "text": [
      "/home/dsc\n"
     ]
    }
   ],
   "source": [
    "%cd ~\n",
    "fichero = open(\"exercises_pg20.txt\", encoding = \"latin-1\")\n",
    "text = fichero.read()"
   ]
  },
  {
   "cell_type": "code",
   "execution_count": 92,
   "metadata": {},
   "outputs": [
    {
     "data": {
      "text/plain": [
       "(9, 87, 554)"
      ]
     },
     "execution_count": 92,
     "metadata": {},
     "output_type": "execute_result"
    }
   ],
   "source": [
    "wordcount(text)"
   ]
  },
  {
   "cell_type": "markdown",
   "metadata": {},
   "source": [
    "    2. Write a Python program to remove the n th index character from a string. If the input string is empty print warning."
   ]
  },
  {
   "cell_type": "code",
   "execution_count": 105,
   "metadata": {},
   "outputs": [],
   "source": [
    "def remove_character(text, index_number):\n",
    "    \n",
    "    if len(text) == 0:\n",
    "        result = \"WARNING\"\n",
    "    \n",
    "    else:\n",
    "        result = text[:index_number] + text[index_number + 1:]\n",
    "    \n",
    "    return result"
   ]
  },
  {
   "cell_type": "code",
   "execution_count": 106,
   "metadata": {},
   "outputs": [],
   "source": [
    "text = \"Hola a todo el mundo\""
   ]
  },
  {
   "cell_type": "code",
   "execution_count": 107,
   "metadata": {},
   "outputs": [
    {
     "data": {
      "text/plain": [
       "'ola a todo el mundo'"
      ]
     },
     "execution_count": 107,
     "metadata": {},
     "output_type": "execute_result"
    }
   ],
   "source": [
    "remove_character(text, 0)"
   ]
  },
  {
   "cell_type": "code",
   "execution_count": 108,
   "metadata": {},
   "outputs": [
    {
     "data": {
      "text/plain": [
       "'WARNING'"
      ]
     },
     "execution_count": 108,
     "metadata": {},
     "output_type": "execute_result"
    }
   ],
   "source": [
    "remove_character(\"\", 2)"
   ]
  },
  {
   "cell_type": "markdown",
   "metadata": {},
   "source": [
    "## Quick Exercises 3"
   ]
  },
  {
   "cell_type": "markdown",
   "metadata": {},
   "source": [
    "    1. While inside python, go to ~/Data/opentraveldata/ and list the files. Repeat the same for /home/dsc/Data/us_dot/otp and ~/Data/us_dot/traffic/. Use the list of visited directories from dhist and write for loop which will return for each visited directory its name and number of files inside."
   ]
  },
  {
   "cell_type": "code",
   "execution_count": 142,
   "metadata": {},
   "outputs": [
    {
     "name": "stdout",
     "output_type": "stream",
     "text": [
      "/home/dsc/Data/opentraveldata\n",
      "total 8028\r\n",
      "-rwxr-x--- 1 dsc   18612 mar 13 17:24 \u001b[0m\u001b[01;32moptd_aircraft.csv\u001b[0m*\r\n",
      "-rwxr-x--- 1 dsc  107306 mar 13 17:24 \u001b[01;32moptd_airlines.csv\u001b[0m*\r\n",
      "-rwxr-x--- 1 dsc 8080005 mar 13 17:24 \u001b[01;32moptd_por_public.csv\u001b[0m*\r\n",
      "-rwxr-x--- 1 dsc    5816 mar 13 17:24 \u001b[01;32mref_airline_nb_of_flights.csv\u001b[0m*\r\n"
     ]
    }
   ],
   "source": [
    "%cd ~/Data/opentraveldata/\n",
    "%ll"
   ]
  },
  {
   "cell_type": "code",
   "execution_count": 143,
   "metadata": {},
   "outputs": [
    {
     "name": "stdout",
     "output_type": "stream",
     "text": [
      "/home/dsc/Data/us_dot/otp\n",
      "total 190208\r\n",
      "-rw-r--r-- 1 dsc      515 mar 17 12:44 history_file.txt\r\n",
      "-rwxr-x--- 1 dsc 23061340 mar 13 17:24 \u001b[0m\u001b[01;32mOn_Time_On_Time_Performance_2015_1.zip\u001b[0m*\r\n",
      "-rwxr-x--- 1 dsc 21230105 mar 13 17:24 \u001b[01;32mOn_Time_On_Time_Performance_2015_2.zip\u001b[0m*\r\n",
      "-rwxr-x--- 1 dsc 24811186 mar 13 17:24 \u001b[01;32mOn_Time_On_Time_Performance_2015_3.zip\u001b[0m*\r\n",
      "-rwxr-x--- 1 dsc 23625261 mar 13 17:24 \u001b[01;32mOn_Time_On_Time_Performance_2015_4.zip\u001b[0m*\r\n",
      "-rwxr-x--- 1 dsc 24334057 mar 13 17:24 \u001b[01;32mOn_Time_On_Time_Performance_2015_5.zip\u001b[0m*\r\n",
      "-rwxr-x--- 1 dsc 25758350 mar 13 17:24 \u001b[01;32mOn_Time_On_Time_Performance_2015_6.zip\u001b[0m*\r\n",
      "-rwxr-x--- 1 dsc 26204213 mar 13 17:24 \u001b[01;32mOn_Time_On_Time_Performance_2015_7.zip\u001b[0m*\r\n",
      "-rwxr-x--- 1 dsc 25726054 mar 13 17:24 \u001b[01;32mOn_Time_On_Time_Performance_2015_8.zip\u001b[0m*\r\n",
      "-rw-r--r-- 1 dsc      237 mar 17 12:41 three_largest_file.txt\r\n"
     ]
    }
   ],
   "source": [
    "%cd ~/Data/us_dot/otp/\n",
    "%ll"
   ]
  },
  {
   "cell_type": "code",
   "execution_count": 144,
   "metadata": {},
   "outputs": [
    {
     "name": "stdout",
     "output_type": "stream",
     "text": [
      "/home/dsc/Data/us_dot/traffic\n",
      "total 22052\r\n",
      "-rwxr-x--- 1 dsc 16871101 mar 13 17:24 \u001b[0m\u001b[01;32mT100_SEGMENT_ALL_CARRIER_2014.zip\u001b[0m*\r\n",
      "-rwxr-x--- 1 dsc  5709455 mar 13 17:24 \u001b[01;32mT100_SEGMENT_ALL_CARRIER_2015.zip\u001b[0m*\r\n"
     ]
    }
   ],
   "source": [
    "%cd ~/Data/us_dot/traffic/\n",
    "%ll"
   ]
  },
  {
   "cell_type": "code",
   "execution_count": 145,
   "metadata": {},
   "outputs": [
    {
     "name": "stdout",
     "output_type": "stream",
     "text": [
      "Directory history (kept in _dh)\n",
      "0: /home/dsc/Clases_Master/Ejercicios/Python\n",
      "1: /home/dsc\n",
      "2: /home/dsc/Data/opentraveldata\n",
      "3: /home/dsc/Data/us_dot/otp\n",
      "4: /home/dsc/Data/us_dot/traffic\n",
      "5: /home/dsc/Data/opentraveldata\n",
      "6: /home/dsc/Data/us_dot/otp\n",
      "7: /home/dsc/Data/us_dot/traffic\n"
     ]
    }
   ],
   "source": [
    "%dhist"
   ]
  },
  {
   "cell_type": "code",
   "execution_count": 146,
   "metadata": {},
   "outputs": [
    {
     "name": "stdout",
     "output_type": "stream",
     "text": [
      "/home/dsc/Clases_Master/Ejercicios/Python \n",
      " 4\n",
      "/home/dsc \n",
      " 28\n",
      "/home/dsc/Data/opentraveldata \n",
      " 4\n",
      "/home/dsc/Data/us_dot/otp \n",
      " 10\n",
      "/home/dsc/Data/us_dot/traffic \n",
      " 2\n",
      "/home/dsc/Data/opentraveldata \n",
      " 4\n",
      "/home/dsc/Data/us_dot/otp \n",
      " 10\n",
      "/home/dsc/Data/us_dot/traffic \n",
      " 2\n"
     ]
    }
   ],
   "source": [
    "for directory in _dh:\n",
    "    number_files = !ls $directory\n",
    "    print(directory, \"\\n\", len(number_files))"
   ]
  },
  {
   "cell_type": "markdown",
   "metadata": {},
   "source": [
    "    2. Write a function that will take text file and pattern as input parameters, and return the number of occurances of case insensitive pattern inside a text (similar to: grep -i –o pattern file | wc -l)"
   ]
  },
  {
   "cell_type": "code",
   "execution_count": 3,
   "metadata": {},
   "outputs": [
    {
     "name": "stdout",
     "output_type": "stream",
     "text": [
      "/home/dsc\n"
     ]
    },
    {
     "data": {
      "text/plain": [
       "2"
      ]
     },
     "execution_count": 3,
     "metadata": {},
     "output_type": "execute_result"
    }
   ],
   "source": [
    "def number_pattern(text, pattern):\n",
    "    return text.lower().count(pattern.lower())\n",
    "\n",
    "%cd ~\n",
    "fichero = open(\"exercises_pg20.txt\", encoding = \"latin-1\")\n",
    "text = fichero.read()\n",
    "fichero.close()\n",
    "\n",
    "number_pattern(text, \"file\")"
   ]
  },
  {
   "cell_type": "markdown",
   "metadata": {},
   "source": [
    "    3. Open Finn.txt file, read lines into a list. Remove trailing white spaces from each line . Write the resulting list to the new file. How many lines does the new file have? (hint: empty list is made with [ ] )\n",
    "\n",
    "    4. Open Finn.txt file, read lines into a list. Create a new version of Finn_nbl.txt with no blank lines.\n",
    "\n",
    "    5. Reset the workspace. Obtain the difference in number of lines between original Finn file and and the one without blank lines and print the result. (hint: use wc)"
   ]
  },
  {
   "cell_type": "code",
   "execution_count": 28,
   "metadata": {},
   "outputs": [
    {
     "name": "stdout",
     "output_type": "stream",
     "text": [
      "/home/dsc/Data/shell\n",
      "El archivo Finn.txt tiene 12363 líneas\n",
      "El archivo finn_nbl.txt tiene 9674 líneas\n"
     ]
    }
   ],
   "source": [
    "%cd ~/Data/shell/\n",
    "\n",
    "fichero = open(\"Finn.txt\", encoding = \"latin-1\")\n",
    "text = fichero.read()\n",
    "text_list = text.splitlines()\n",
    "print(\"El archivo Finn.txt tiene %d líneas\" %(len(text_list)))\n",
    "\n",
    "Finn_nbl_list = []\n",
    "\n",
    "for n in text_list:\n",
    "    if n == \"\":\n",
    "        continue\n",
    "    Finn_nbl_list.append(n)\n",
    "    \n",
    "print(\"El archivo finn_nbl.txt tiene %d líneas\" %(len(Finn_nbl_list)))\n",
    "\n",
    "finn_nbl = \" \".join(Finn_nbl_list)\n",
    "\n",
    "fichero_nbl = open(\"finn_nbl.txt\", \"w\")\n",
    "fichero_nbl.write(finn_nbl)\n",
    "fichero_nbl.close()\n",
    "fichero.close()"
   ]
  },
  {
   "cell_type": "code",
   "execution_count": 29,
   "metadata": {},
   "outputs": [
    {
     "name": "stdout",
     "output_type": "stream",
     "text": [
      "12363\r\n"
     ]
    }
   ],
   "source": [
    "%cat \"Finn.txt\" | wc -l"
   ]
  },
  {
   "cell_type": "code",
   "execution_count": 31,
   "metadata": {},
   "outputs": [
    {
     "name": "stdout",
     "output_type": "stream",
     "text": [
      "0\r\n"
     ]
    }
   ],
   "source": [
    "%cat \"finn_nbl.txt\" | wc -l"
   ]
  },
  {
   "cell_type": "markdown",
   "metadata": {},
   "source": [
    "## Quick Excercises 4\n",
    "    1. For a sequence [1, 2, 3, 4, 5, 6, 7, 8 ] get the squared values using the lambda function."
   ]
  },
  {
   "cell_type": "code",
   "execution_count": 1,
   "metadata": {},
   "outputs": [
    {
     "data": {
      "text/plain": [
       "[1, 2, 3, 4, 5, 6, 7, 8]"
      ]
     },
     "execution_count": 1,
     "metadata": {},
     "output_type": "execute_result"
    }
   ],
   "source": [
    "a_list = list(range(1,9))\n",
    "a_list"
   ]
  },
  {
   "cell_type": "code",
   "execution_count": 5,
   "metadata": {},
   "outputs": [
    {
     "data": {
      "text/plain": [
       "[1, 4, 9, 16, 25, 36, 49, 64]"
      ]
     },
     "execution_count": 5,
     "metadata": {},
     "output_type": "execute_result"
    }
   ],
   "source": [
    "a_list_squared = list(map(lambda x: x**2, a_list))\n",
    "a_list_squared"
   ]
  },
  {
   "cell_type": "markdown",
   "metadata": {},
   "source": [
    "    2. Prepare a list with 10 names. Make a code that will put all vowels to capitals and every other\n",
    "    character to lower letters."
   ]
  },
  {
   "cell_type": "code",
   "execution_count": 8,
   "metadata": {},
   "outputs": [
    {
     "data": {
      "text/plain": [
       "['Carlos', 'Zoe Kazan', 'Ruby Sparks', 'María']"
      ]
     },
     "execution_count": 8,
     "metadata": {},
     "output_type": "execute_result"
    }
   ],
   "source": [
    "list_names = [\"Carlos\", \"Zoe Kazan\", \"Ruby Sparks\", \"María\"]\n",
    "list_names"
   ]
  },
  {
   "cell_type": "code",
   "execution_count": 18,
   "metadata": {},
   "outputs": [],
   "source": [
    "new_list_names = []\n",
    "for names in list_names:\n",
    "    r = list(map(lambda x: x.upper() if x in \"aeiou\" else x.lower(), names))\n",
    "    new_list_names.append(\"\".join(r))"
   ]
  },
  {
   "cell_type": "code",
   "execution_count": 19,
   "metadata": {},
   "outputs": [
    {
     "data": {
      "text/plain": [
       "['cArlOs', 'zOE kAzAn', 'rUby spArks', 'mAríA']"
      ]
     },
     "execution_count": 19,
     "metadata": {},
     "output_type": "execute_result"
    }
   ],
   "source": [
    "new_list_names"
   ]
  },
  {
   "cell_type": "markdown",
   "metadata": {},
   "source": [
    "    3. Prepare again a list with 10 names. Make a function with two input variables: list, and character; that\n",
    "    returns a list of names containing one or more of input characters ’s inside the name."
   ]
  },
  {
   "cell_type": "code",
   "execution_count": 20,
   "metadata": {},
   "outputs": [],
   "source": [
    "def find_character(lista, character):\n",
    "    return list(filter(lambda x: character in x, lista))"
   ]
  },
  {
   "cell_type": "code",
   "execution_count": 25,
   "metadata": {},
   "outputs": [
    {
     "data": {
      "text/plain": [
       "['Carlos', 'Ruby Sparks', 'María']"
      ]
     },
     "execution_count": 25,
     "metadata": {},
     "output_type": "execute_result"
    }
   ],
   "source": [
    "find_character(list_names, \"r\")"
   ]
  },
  {
   "cell_type": "markdown",
   "metadata": {},
   "source": [
    "    4. Reverse word order from the input string"
   ]
  },
  {
   "cell_type": "code",
   "execution_count": null,
   "metadata": {},
   "outputs": [],
   "source": []
  },
  {
   "cell_type": "markdown",
   "metadata": {},
   "source": [
    "    5. Create a function that accepts string as search string and returns number of lines with that string in a\n",
    "    command history (hint : use a in b)"
   ]
  },
  {
   "cell_type": "code",
   "execution_count": 5,
   "metadata": {},
   "outputs": [],
   "source": [
    "%cat -n ~/.history > ~/history_120418.txt"
   ]
  },
  {
   "cell_type": "code",
   "execution_count": 14,
   "metadata": {},
   "outputs": [],
   "source": [
    "def find_string(text, file):\n",
    "    \n",
    "    history = file.read()\n",
    "    history_list = history.lower().splitlines()\n",
    "    lines = []\n",
    "    \n",
    "    for n in range(0, len(history_list)):\n",
    "        if text in history_list[n]:\n",
    "            lines.append(n+1)\n",
    "            \n",
    "    file.close()\n",
    "            \n",
    "    return lines    "
   ]
  },
  {
   "cell_type": "code",
   "execution_count": 22,
   "metadata": {},
   "outputs": [
    {
     "name": "stdout",
     "output_type": "stream",
     "text": [
      "/home/dsc\n"
     ]
    },
    {
     "data": {
      "text/plain": [
       "[885, 887, 888, 889, 891, 892, 899, 903, 904, 1904, 1919, 1920, 2016, 2034]"
      ]
     },
     "execution_count": 22,
     "metadata": {},
     "output_type": "execute_result"
    }
   ],
   "source": [
    "%cd \n",
    "history_file = open(\"history_120418.txt\", encoding = \"latin-1\")\n",
    "find_string(\"facebook\", history_file)"
   ]
  },
  {
   "cell_type": "markdown",
   "metadata": {},
   "source": [
    "    6. Write a Python function that takes a list of words and returns the length of the longest one."
   ]
  },
  {
   "cell_type": "code",
   "execution_count": 57,
   "metadata": {},
   "outputs": [],
   "source": [
    "def longest_word(lista):\n",
    "    length = max(map(lambda x: len(x), lista))\n",
    "    word = list(filter(lambda x: len(x) == length, lista))\n",
    "    return word, length"
   ]
  },
  {
   "cell_type": "code",
   "execution_count": 58,
   "metadata": {},
   "outputs": [
    {
     "data": {
      "text/plain": [
       "(['Buenas noches', 'Buenas tardes'], 13)"
      ]
     },
     "execution_count": 58,
     "metadata": {},
     "output_type": "execute_result"
    }
   ],
   "source": [
    "longest_word([\"hola\", \"Buenas noches\", \"Buenas tardes\"])"
   ]
  },
  {
   "cell_type": "markdown",
   "metadata": {},
   "source": [
    "## Quick Excercises 5"
   ]
  },
  {
   "cell_type": "markdown",
   "metadata": {},
   "source": [
    "    1. Categorize a list of words by their first letter, meaning that the result of the operation is first letter\n",
    "    and all the words from the input list starting with that letter. (hint: use dict)"
   ]
  },
  {
   "cell_type": "code",
   "execution_count": 81,
   "metadata": {},
   "outputs": [],
   "source": [
    "list_words = [\"Carlos\", \"Zoe Kazan\", \"Ruby Sparks\", \"Alvaro\", \"Alejandro\", \"María\", \"Manolo\", \"marta\"]"
   ]
  },
  {
   "cell_type": "code",
   "execution_count": 82,
   "metadata": {},
   "outputs": [
    {
     "data": {
      "text/plain": [
       "{'a': ['Alvaro', 'Alejandro'],\n",
       " 'c': ['Carlos'],\n",
       " 'm': ['María', 'Manolo', 'marta'],\n",
       " 'r': ['Ruby Sparks'],\n",
       " 'z': ['Zoe Kazan']}"
      ]
     },
     "execution_count": 82,
     "metadata": {},
     "output_type": "execute_result"
    }
   ],
   "source": [
    "words_categorized = {}\n",
    "keys = []\n",
    "\n",
    "for word in list_words:\n",
    "    keys.append(word[0].lower())   \n",
    "\n",
    "for key in keys:\n",
    "    words_categorized[key] = list(filter(lambda x: x[0].lower() == key, list_words))\n",
    "    \n",
    "words_categorized"
   ]
  },
  {
   "cell_type": "markdown",
   "metadata": {},
   "source": [
    "    2. Sort a collection of strings by the number of distinct letters in each string. (hint: use set and lambda)"
   ]
  },
  {
   "cell_type": "code",
   "execution_count": 83,
   "metadata": {},
   "outputs": [
    {
     "data": {
      "text/plain": [
       "['Carlos',\n",
       " 'Zoe Kazan',\n",
       " 'Ruby Sparks',\n",
       " 'Alvaro',\n",
       " 'Alejandro',\n",
       " 'María',\n",
       " 'Manolo',\n",
       " 'marta']"
      ]
     },
     "execution_count": 83,
     "metadata": {},
     "output_type": "execute_result"
    }
   ],
   "source": [
    "list_words"
   ]
  },
  {
   "cell_type": "code",
   "execution_count": 110,
   "metadata": {},
   "outputs": [
    {
     "data": {
      "text/plain": [
       "[6, 7, 9, 5, 8, 4, 5, 4]"
      ]
     },
     "execution_count": 110,
     "metadata": {},
     "output_type": "execute_result"
    }
   ],
   "source": [
    "lista = list(map(lambda x: len(set(x.lower())), list_words))\n",
    "lista"
   ]
  },
  {
   "cell_type": "code",
   "execution_count": 109,
   "metadata": {},
   "outputs": [
    {
     "data": {
      "text/plain": [
       "['María',\n",
       " 'marta',\n",
       " 'Alvaro',\n",
       " 'Manolo',\n",
       " 'Carlos',\n",
       " 'Zoe Kazan',\n",
       " 'Alejandro',\n",
       " 'Ruby Sparks']"
      ]
     },
     "execution_count": 109,
     "metadata": {},
     "output_type": "execute_result"
    }
   ],
   "source": [
    "sorted(set(list_words), key = len)"
   ]
  },
  {
   "cell_type": "code",
   "execution_count": null,
   "metadata": {},
   "outputs": [],
   "source": []
  }
 ],
 "metadata": {
  "kernelspec": {
   "display_name": "Python 3",
   "language": "python",
   "name": "python3"
  },
  "language_info": {
   "codemirror_mode": {
    "name": "ipython",
    "version": 3
   },
   "file_extension": ".py",
   "mimetype": "text/x-python",
   "name": "python",
   "nbconvert_exporter": "python",
   "pygments_lexer": "ipython3",
   "version": "3.6.4"
  }
 },
 "nbformat": 4,
 "nbformat_minor": 2
}
