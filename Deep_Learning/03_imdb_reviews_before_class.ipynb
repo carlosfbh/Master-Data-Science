{
  "nbformat": 4,
  "nbformat_minor": 0,
  "metadata": {
    "colab": {
      "name": "03_imdb_reviews_before_class.ipynb",
      "version": "0.3.2",
      "provenance": [],
      "collapsed_sections": []
    },
    "kernelspec": {
      "display_name": "Python 3",
      "language": "python",
      "name": "python3"
    }
  },
  "cells": [
    {
      "metadata": {
        "id": "d_N8_uBioRfT",
        "colab_type": "text"
      },
      "cell_type": "markdown",
      "source": [
        "# Working with text\n",
        "\n",
        "In this problem, we will load movie reviews from IMDB, a famous movie database and website, and we will try to predict whether the review is positive or negative."
      ]
    },
    {
      "metadata": {
        "id": "_xzsUWgqoRfU",
        "colab_type": "text"
      },
      "cell_type": "markdown",
      "source": [
        "First, the function we will use to diagnose the performance of our model"
      ]
    },
    {
      "metadata": {
        "id": "284IuVXuOIKA",
        "colab_type": "code",
        "colab": {
          "base_uri": "https://localhost:8080/",
          "height": 119
        },
        "outputId": "1eb5df81-8b2a-45c7-dad6-473cacb2039c"
      },
      "cell_type": "code",
      "source": [
        "! pip install keras"
      ],
      "execution_count": 1,
      "outputs": [
        {
          "output_type": "stream",
          "text": [
            "Requirement already satisfied: keras in /usr/local/lib/python3.6/dist-packages (2.1.6)\r\n",
            "Requirement already satisfied: h5py in /usr/local/lib/python3.6/dist-packages (from keras) (2.8.0)\r\n",
            "Requirement already satisfied: numpy>=1.9.1 in /usr/local/lib/python3.6/dist-packages (from keras) (1.14.5)\r\n",
            "Requirement already satisfied: six>=1.9.0 in /usr/local/lib/python3.6/dist-packages (from keras) (1.11.0)\r\n",
            "Requirement already satisfied: scipy>=0.14 in /usr/local/lib/python3.6/dist-packages (from keras) (0.19.1)\r\n",
            "Requirement already satisfied: pyyaml in /usr/local/lib/python3.6/dist-packages (from keras) (3.13)\r\n"
          ],
          "name": "stdout"
        }
      ]
    },
    {
      "metadata": {
        "id": "w5NFKmE1oRfW",
        "colab_type": "code",
        "colab": {
          "base_uri": "https://localhost:8080/",
          "height": 34
        },
        "outputId": "73ebf2ca-0fe4-4cc4-d59f-eccbe9a3d4aa"
      },
      "cell_type": "code",
      "source": [
        "%pylab inline\n",
        "plt.style.use('seaborn-talk')"
      ],
      "execution_count": 2,
      "outputs": [
        {
          "output_type": "stream",
          "text": [
            "Populating the interactive namespace from numpy and matplotlib\n"
          ],
          "name": "stdout"
        }
      ]
    },
    {
      "metadata": {
        "id": "MR70yVv_oRfd",
        "colab_type": "code",
        "colab": {}
      },
      "cell_type": "code",
      "source": [
        "def plot_metric(history, metric):\n",
        "    history_dict = history.history\n",
        "    values = history_dict[metric]\n",
        "    if 'val_' + metric in history_dict.keys():  \n",
        "        val_values = history_dict['val_' + metric]\n",
        "\n",
        "    epochs = range(1, len(values) + 1)\n",
        "\n",
        "    if 'val_' + metric in history_dict.keys():  \n",
        "        plt.plot(epochs, val_values, label='Validation')\n",
        "    plt.semilogy(epochs, values, label='Training')\n",
        "\n",
        "    if 'val_' + metric in history_dict.keys():  \n",
        "        plt.title('Training and validation %s' % metric)\n",
        "    else:\n",
        "        plt.title('Training %s' % metric)\n",
        "    plt.xlabel('Epochs')\n",
        "    plt.ylabel(metric.capitalize())\n",
        "    plt.legend()\n",
        "    plt.grid()\n",
        "\n",
        "    plt.show()  "
      ],
      "execution_count": 0,
      "outputs": []
    },
    {
      "metadata": {
        "id": "wVnzarZroRfh",
        "colab_type": "text"
      },
      "cell_type": "markdown",
      "source": [
        "## Input data"
      ]
    },
    {
      "metadata": {
        "id": "dzrWujCjoRfi",
        "colab_type": "code",
        "colab": {
          "base_uri": "https://localhost:8080/",
          "height": 34
        },
        "outputId": "81b572f7-5de8-4de6-f2e0-3807efdf5c31"
      },
      "cell_type": "code",
      "source": [
        "from keras.datasets import imdb"
      ],
      "execution_count": 4,
      "outputs": [
        {
          "output_type": "stream",
          "text": [
            "Using TensorFlow backend.\n"
          ],
          "name": "stderr"
        }
      ]
    },
    {
      "metadata": {
        "id": "j0-rL6nVoRfo",
        "colab_type": "code",
        "colab": {}
      },
      "cell_type": "code",
      "source": [
        "# Run this to download the data prior to the lecture\n",
        "train, test = imdb.load_data(num_words=10000) #Ponemos un límite máximo de un vocabulario de 10000 palabras"
      ],
      "execution_count": 0,
      "outputs": []
    },
    {
      "metadata": {
        "id": "JzcJFDDBoRfr",
        "colab_type": "code",
        "colab": {
          "base_uri": "https://localhost:8080/",
          "height": 34
        },
        "outputId": "889409b9-d88a-499b-eed9-63229b389a51"
      },
      "cell_type": "code",
      "source": [
        "type(train)"
      ],
      "execution_count": 7,
      "outputs": [
        {
          "output_type": "execute_result",
          "data": {
            "text/plain": [
              "tuple"
            ]
          },
          "metadata": {
            "tags": []
          },
          "execution_count": 7
        }
      ]
    },
    {
      "metadata": {
        "id": "cq2vLq5HQBrF",
        "colab_type": "code",
        "colab": {}
      },
      "cell_type": "code",
      "source": [
        "text_train, labels_train = train\n",
        "text_test, labels_test = test"
      ],
      "execution_count": 0,
      "outputs": []
    },
    {
      "metadata": {
        "id": "f2-DyB22QGDD",
        "colab_type": "code",
        "colab": {
          "base_uri": "https://localhost:8080/",
          "height": 34
        },
        "outputId": "5ddfafe2-f8c9-4077-8bc9-89448c734340"
      },
      "cell_type": "code",
      "source": [
        "text_train.shape\n",
        "# Tienen 25000 textos"
      ],
      "execution_count": 11,
      "outputs": [
        {
          "output_type": "execute_result",
          "data": {
            "text/plain": [
              "(25000,)"
            ]
          },
          "metadata": {
            "tags": []
          },
          "execution_count": 11
        }
      ]
    },
    {
      "metadata": {
        "id": "foubYHriQY6o",
        "colab_type": "code",
        "colab": {
          "base_uri": "https://localhost:8080/",
          "height": 34
        },
        "outputId": "48a67f4f-a752-47b9-cba3-f3ababff7a8b"
      },
      "cell_type": "code",
      "source": [
        "labels_train.shape"
      ],
      "execution_count": 13,
      "outputs": [
        {
          "output_type": "execute_result",
          "data": {
            "text/plain": [
              "(25000,)"
            ]
          },
          "metadata": {
            "tags": []
          },
          "execution_count": 13
        }
      ]
    },
    {
      "metadata": {
        "id": "4j74mrfiQI48",
        "colab_type": "code",
        "colab": {
          "base_uri": "https://localhost:8080/",
          "height": 71
        },
        "outputId": "74f92be6-a209-43bb-d240-4271aed9b574"
      },
      "cell_type": "code",
      "source": [
        "print(text_train[0])\n",
        "len(text_train[0])"
      ],
      "execution_count": 16,
      "outputs": [
        {
          "output_type": "stream",
          "text": [
            "[1, 14, 22, 16, 43, 530, 973, 1622, 1385, 65, 458, 4468, 66, 3941, 4, 173, 36, 256, 5, 25, 100, 43, 838, 112, 50, 670, 2, 9, 35, 480, 284, 5, 150, 4, 172, 112, 167, 2, 336, 385, 39, 4, 172, 4536, 1111, 17, 546, 38, 13, 447, 4, 192, 50, 16, 6, 147, 2025, 19, 14, 22, 4, 1920, 4613, 469, 4, 22, 71, 87, 12, 16, 43, 530, 38, 76, 15, 13, 1247, 4, 22, 17, 515, 17, 12, 16, 626, 18, 2, 5, 62, 386, 12, 8, 316, 8, 106, 5, 4, 2223, 5244, 16, 480, 66, 3785, 33, 4, 130, 12, 16, 38, 619, 5, 25, 124, 51, 36, 135, 48, 25, 1415, 33, 6, 22, 12, 215, 28, 77, 52, 5, 14, 407, 16, 82, 2, 8, 4, 107, 117, 5952, 15, 256, 4, 2, 7, 3766, 5, 723, 36, 71, 43, 530, 476, 26, 400, 317, 46, 7, 4, 2, 1029, 13, 104, 88, 4, 381, 15, 297, 98, 32, 2071, 56, 26, 141, 6, 194, 7486, 18, 4, 226, 22, 21, 134, 476, 26, 480, 5, 144, 30, 5535, 18, 51, 36, 28, 224, 92, 25, 104, 4, 226, 65, 16, 38, 1334, 88, 12, 16, 283, 5, 16, 4472, 113, 103, 32, 15, 16, 5345, 19, 178, 32]\n"
          ],
          "name": "stdout"
        },
        {
          "output_type": "execute_result",
          "data": {
            "text/plain": [
              "218"
            ]
          },
          "metadata": {
            "tags": []
          },
          "execution_count": 16
        }
      ]
    },
    {
      "metadata": {
        "id": "cA-NrNrxQm4l",
        "colab_type": "code",
        "colab": {
          "base_uri": "https://localhost:8080/",
          "height": 34
        },
        "outputId": "6fb1087f-014d-45ab-e249-5b704247b15a"
      },
      "cell_type": "code",
      "source": [
        "len(text_train[1])"
      ],
      "execution_count": 17,
      "outputs": [
        {
          "output_type": "execute_result",
          "data": {
            "text/plain": [
              "189"
            ]
          },
          "metadata": {
            "tags": []
          },
          "execution_count": 17
        }
      ]
    },
    {
      "metadata": {
        "id": "EK4zisNjQqeM",
        "colab_type": "code",
        "colab": {
          "base_uri": "https://localhost:8080/",
          "height": 34
        },
        "outputId": "64722030-d404-40f7-abc3-e39a3566a5d4"
      },
      "cell_type": "code",
      "source": [
        "text_train[0][0:10]\n",
        "# Estos números son índices de palabras"
      ],
      "execution_count": 18,
      "outputs": [
        {
          "output_type": "execute_result",
          "data": {
            "text/plain": [
              "[1, 14, 22, 16, 43, 530, 973, 1622, 1385, 65]"
            ]
          },
          "metadata": {
            "tags": []
          },
          "execution_count": 18
        }
      ]
    },
    {
      "metadata": {
        "id": "_SXckZaboRfu",
        "colab_type": "text"
      },
      "cell_type": "markdown",
      "source": [
        "Why are these *texts* numbers?"
      ]
    },
    {
      "metadata": {
        "id": "W1TApDPVoRfv",
        "colab_type": "code",
        "colab": {
          "base_uri": "https://localhost:8080/",
          "height": 34
        },
        "outputId": "e7cdc6bc-6f6d-4c2f-ad70-95aa8a891a88"
      },
      "cell_type": "code",
      "source": [
        "text_test.shape"
      ],
      "execution_count": 19,
      "outputs": [
        {
          "output_type": "execute_result",
          "data": {
            "text/plain": [
              "(25000,)"
            ]
          },
          "metadata": {
            "tags": []
          },
          "execution_count": 19
        }
      ]
    },
    {
      "metadata": {
        "id": "icTlLa2qQ6o1",
        "colab_type": "code",
        "colab": {
          "base_uri": "https://localhost:8080/",
          "height": 34
        },
        "outputId": "67f13883-7694-496f-a7fe-75bf03547298"
      },
      "cell_type": "code",
      "source": [
        "labels_train[0]\n",
        "# Esto nos dice si los comentarios son positivos o negativos. 1 positivo 0 negativo"
      ],
      "execution_count": 22,
      "outputs": [
        {
          "output_type": "execute_result",
          "data": {
            "text/plain": [
              "1"
            ]
          },
          "metadata": {
            "tags": []
          },
          "execution_count": 22
        }
      ]
    },
    {
      "metadata": {
        "id": "S8C1njOmoRf1",
        "colab_type": "text"
      },
      "cell_type": "markdown",
      "source": [
        "These are actually indices in a word index"
      ]
    },
    {
      "metadata": {
        "id": "Hol63ONIoRf2",
        "colab_type": "code",
        "colab": {
          "base_uri": "https://localhost:8080/",
          "height": 51
        },
        "outputId": "3816a85d-f29b-43ef-8f82-2108880145bf"
      },
      "cell_type": "code",
      "source": [
        "word_index = imdb.get_word_index()\n",
        "# Este es el índice de palabras. Las claves son palabras y los valores son los números"
      ],
      "execution_count": 23,
      "outputs": [
        {
          "output_type": "stream",
          "text": [
            "Downloading data from https://s3.amazonaws.com/text-datasets/imdb_word_index.json\n",
            "1646592/1641221 [==============================] - 0s 0us/step\n"
          ],
          "name": "stdout"
        }
      ]
    },
    {
      "metadata": {
        "id": "bVuymC8PoRf7",
        "colab_type": "code",
        "colab": {
          "base_uri": "https://localhost:8080/",
          "height": 34
        },
        "outputId": "f840b094-a8dd-4209-ec79-f9324f81d76b"
      },
      "cell_type": "code",
      "source": [
        "word_index['dog']"
      ],
      "execution_count": 24,
      "outputs": [
        {
          "output_type": "execute_result",
          "data": {
            "text/plain": [
              "909"
            ]
          },
          "metadata": {
            "tags": []
          },
          "execution_count": 24
        }
      ]
    },
    {
      "metadata": {
        "id": "J8Ab3iCURii4",
        "colab_type": "code",
        "colab": {
          "base_uri": "https://localhost:8080/",
          "height": 34
        },
        "outputId": "8110201c-8a74-42b0-cb53-573b97ed7ba3"
      },
      "cell_type": "code",
      "source": [
        "word_index['the']"
      ],
      "execution_count": 25,
      "outputs": [
        {
          "output_type": "execute_result",
          "data": {
            "text/plain": [
              "1"
            ]
          },
          "metadata": {
            "tags": []
          },
          "execution_count": 25
        }
      ]
    },
    {
      "metadata": {
        "id": "oPi5iDjhRkVd",
        "colab_type": "code",
        "colab": {
          "base_uri": "https://localhost:8080/",
          "height": 34
        },
        "outputId": "455f80ca-4607-41e1-c516-4649d3baa5be"
      },
      "cell_type": "code",
      "source": [
        "word_index['car']"
      ],
      "execution_count": 26,
      "outputs": [
        {
          "output_type": "execute_result",
          "data": {
            "text/plain": [
              "516"
            ]
          },
          "metadata": {
            "tags": []
          },
          "execution_count": 26
        }
      ]
    },
    {
      "metadata": {
        "id": "Eemzn2nSSnOK",
        "colab_type": "code",
        "colab": {
          "base_uri": "https://localhost:8080/",
          "height": 34
        },
        "outputId": "21b5c123-0f49-4897-b02d-d316b8bbce6b"
      },
      "cell_type": "code",
      "source": [
        "word_index['worst']"
      ],
      "execution_count": 32,
      "outputs": [
        {
          "output_type": "execute_result",
          "data": {
            "text/plain": [
              "246"
            ]
          },
          "metadata": {
            "tags": []
          },
          "execution_count": 32
        }
      ]
    },
    {
      "metadata": {
        "id": "i7BdNG08oRgA",
        "colab_type": "code",
        "colab": {}
      },
      "cell_type": "code",
      "source": [
        "reversed_word_index = dict((value, key) for (key, value) in word_index.items())"
      ],
      "execution_count": 0,
      "outputs": []
    },
    {
      "metadata": {
        "id": "obEhjNLHoRgE",
        "colab_type": "code",
        "colab": {}
      },
      "cell_type": "code",
      "source": [
        "def get_text_from_vector(v):\n",
        "    return ' '.join(reversed_word_index.get(i-3, '?') for i in v)"
      ],
      "execution_count": 0,
      "outputs": []
    },
    {
      "metadata": {
        "id": "OiwXdCfMoRgI",
        "colab_type": "code",
        "colab": {
          "base_uri": "https://localhost:8080/",
          "height": 34
        },
        "outputId": "7100527e-7491-4e38-f4cc-30b7cfdda940"
      },
      "cell_type": "code",
      "source": [
        "get_text_from_vector(text_train[4][0:25])"
      ],
      "execution_count": 31,
      "outputs": [
        {
          "output_type": "execute_result",
          "data": {
            "text/plain": [
              "\"? worst mistake of my life br br i picked this movie up at target for 5 because i figured hey it's sandler i can\""
            ]
          },
          "metadata": {
            "tags": []
          },
          "execution_count": 31
        }
      ]
    },
    {
      "metadata": {
        "id": "s8--PoaASRXw",
        "colab_type": "code",
        "colab": {
          "base_uri": "https://localhost:8080/",
          "height": 34
        },
        "outputId": "16f5b02a-9f1a-4d20-b74b-71998695cfc5"
      },
      "cell_type": "code",
      "source": [
        "labels_train[4]"
      ],
      "execution_count": 30,
      "outputs": [
        {
          "output_type": "execute_result",
          "data": {
            "text/plain": [
              "0"
            ]
          },
          "metadata": {
            "tags": []
          },
          "execution_count": 30
        }
      ]
    },
    {
      "metadata": {
        "id": "5F7sz-GDoRgN",
        "colab_type": "text"
      },
      "cell_type": "markdown",
      "source": [
        "### Prepare data for the network\n",
        "\n",
        "We need to prepare the data to be an input to the neural network. The input must be a **tensor**. In our case, all vectors should be of the same length. But not all reviews are of the same size, so the vectors will have different sizes. How can we overcome this problem?\n",
        "\n",
        "* We can zero-pad the vectors, so all of them have the same size, and then combine them in a tensor. We would need to add an *Embedding* layer to learn **word embeddings** (more later)\n",
        "* Or we can use 1-HOT encoding\n",
        "\n",
        "In both cases, we will have vectors of size $10^4$ (the maximum number of words). Let's go with the 1-HOT encoding."
      ]
    },
    {
      "metadata": {
        "id": "PwS23XOSoRgO",
        "colab_type": "code",
        "colab": {}
      },
      "cell_type": "code",
      "source": [
        "from keras.preprocessing import text"
      ],
      "execution_count": 0,
      "outputs": []
    },
    {
      "metadata": {
        "id": "ObHRuG6rTRv0",
        "colab_type": "code",
        "colab": {}
      },
      "cell_type": "code",
      "source": [
        "tokenizer = text.Tokenizer(num_words = 10000)"
      ],
      "execution_count": 0,
      "outputs": []
    },
    {
      "metadata": {
        "id": "7N6J7QeGTnBu",
        "colab_type": "code",
        "colab": {}
      },
      "cell_type": "code",
      "source": [
        "# tokenizer.texts_to_sequences Dado un texto te genera una secuencia de números como los que tenemos arriba\n",
        "matrix_train = tokenizer.sequences_to_matrix(text_train, mode = \"binary\") # De la lista de secuencias me pasa a una matriz"
      ],
      "execution_count": 0,
      "outputs": []
    },
    {
      "metadata": {
        "id": "6ft8RDxLUPEP",
        "colab_type": "code",
        "colab": {
          "base_uri": "https://localhost:8080/",
          "height": 34
        },
        "outputId": "952c7aa7-15a8-4599-f805-0c1f2e121d60"
      },
      "cell_type": "code",
      "source": [
        "matrix_train.shape\n",
        "# De las 10000 columnas cada una de ellas es la palabra de nuestro vocabulario\n",
        "# De las 25000 filas pone 0 u 1 si aparece esa palabra en el texto. No cuenta la repetición de palabras"
      ],
      "execution_count": 38,
      "outputs": [
        {
          "output_type": "execute_result",
          "data": {
            "text/plain": [
              "(25000, 10000)"
            ]
          },
          "metadata": {
            "tags": []
          },
          "execution_count": 38
        }
      ]
    },
    {
      "metadata": {
        "id": "ABBybAZEUiRT",
        "colab_type": "code",
        "colab": {}
      },
      "cell_type": "code",
      "source": [
        "matrix_test = tokenizer.sequences_to_matrix(text_test, mode = \"binary\")"
      ],
      "execution_count": 0,
      "outputs": []
    },
    {
      "metadata": {
        "id": "EEwbX3EEUrPQ",
        "colab_type": "code",
        "colab": {
          "base_uri": "https://localhost:8080/",
          "height": 34
        },
        "outputId": "1c9fcadf-fcb3-46d2-c85d-8265770b4201"
      },
      "cell_type": "code",
      "source": [
        "matrix_test.shape"
      ],
      "execution_count": 40,
      "outputs": [
        {
          "output_type": "execute_result",
          "data": {
            "text/plain": [
              "(25000, 10000)"
            ]
          },
          "metadata": {
            "tags": []
          },
          "execution_count": 40
        }
      ]
    },
    {
      "metadata": {
        "id": "sPJ0TiiQoRgR",
        "colab_type": "text"
      },
      "cell_type": "markdown",
      "source": [
        "**EXERCISE 1**. Can you see any problem with this approach? How would you solve it?\n",
        "\n",
        "**EXERCISE 2**. Do we need to transform the labels? Why? Or why not?\n",
        "Las etiquetas son 0 y 1, son buenos valores para la red neuronal. Así que lo dejamos así"
      ]
    },
    {
      "metadata": {
        "id": "toEaAE21oRgS",
        "colab_type": "text"
      },
      "cell_type": "markdown",
      "source": [
        "## Let's build the model"
      ]
    },
    {
      "metadata": {
        "id": "dKcR01I3oRgT",
        "colab_type": "code",
        "colab": {}
      },
      "cell_type": "code",
      "source": [
        "from keras import models\n",
        "from keras import layers"
      ],
      "execution_count": 0,
      "outputs": []
    },
    {
      "metadata": {
        "id": "HRflSj4EWL5c",
        "colab_type": "code",
        "colab": {}
      },
      "cell_type": "code",
      "source": [
        "# el modelo m2 será el embeddings\n",
        "m1 = models.Sequential()\n",
        "m1.add(layers.Dense(128, input_shape=(10000,), activation = 'relu'))\n",
        "# m1.add(layers.Dense(64, activation = 'relu'))\n",
        "# m1.add(layers.Dense(16, activation = 'relu'))\n",
        "m1.add(layers.Dense(1, activation = 'sigmoid')) # La salida es un número que pueden ser dos, o 0 o 1, así que ponemos activación sigmoid\n"
      ],
      "execution_count": 0,
      "outputs": []
    },
    {
      "metadata": {
        "id": "lJeB7YsYZhG0",
        "colab_type": "code",
        "colab": {
          "base_uri": "https://localhost:8080/",
          "height": 204
        },
        "outputId": "8e683bdc-cae2-4f78-cdb5-73b56bb35d20"
      },
      "cell_type": "code",
      "source": [
        "m1.summary() # Para ver lo complejo del modelo"
      ],
      "execution_count": 56,
      "outputs": [
        {
          "output_type": "stream",
          "text": [
            "_________________________________________________________________\n",
            "Layer (type)                 Output Shape              Param #   \n",
            "=================================================================\n",
            "dense_8 (Dense)              (None, 128)               1280128   \n",
            "_________________________________________________________________\n",
            "dense_9 (Dense)              (None, 1)                 129       \n",
            "=================================================================\n",
            "Total params: 1,280,257\n",
            "Trainable params: 1,280,257\n",
            "Non-trainable params: 0\n",
            "_________________________________________________________________\n"
          ],
          "name": "stdout"
        }
      ]
    },
    {
      "metadata": {
        "id": "oYPYMc2_XOii",
        "colab_type": "code",
        "colab": {}
      },
      "cell_type": "code",
      "source": [
        "from keras import optimizers\n",
        "from keras import losses\n",
        "from keras import metrics"
      ],
      "execution_count": 0,
      "outputs": []
    },
    {
      "metadata": {
        "id": "tN05r2FaXUA_",
        "colab_type": "code",
        "colab": {}
      },
      "cell_type": "code",
      "source": [
        "m1.compile(\n",
        "    optimizer=optimizers.adam(), \n",
        "    loss = losses.binary_crossentropy,\n",
        "    metrics = [metrics.binary_accuracy]\n",
        ") \n",
        "# Utilizamos esta vez el optimizador adam, muy parecido con el de los otros notebooks. Es cuestión de gustos\n",
        "# La función de pérdidas vamos a usar al entropía cruzada binaria, son para dos clases, es como la de los otros notebooks pero ahora solo hay dos\n",
        "# Utilizamos el binary_accuracy para la métrica\n"
      ],
      "execution_count": 0,
      "outputs": []
    },
    {
      "metadata": {
        "id": "2AAd79I-Ybjb",
        "colab_type": "code",
        "colab": {
          "base_uri": "https://localhost:8080/",
          "height": 734
        },
        "outputId": "29b1a036-7283-4d28-fca6-e311e3b69c1b"
      },
      "cell_type": "code",
      "source": [
        "h1 = m1.fit(matrix_train, labels_train, batch_size = 1024, epochs = 20, validation_split = 0.2)"
      ],
      "execution_count": 60,
      "outputs": [
        {
          "output_type": "stream",
          "text": [
            "Train on 20000 samples, validate on 5000 samples\n",
            "Epoch 1/20\n",
            "20000/20000 [==============================] - 4s 224us/step - loss: 0.4539 - binary_accuracy: 0.8081 - val_loss: 0.3107 - val_binary_accuracy: 0.8798\n",
            "Epoch 2/20\n",
            "20000/20000 [==============================] - 4s 219us/step - loss: 0.2291 - binary_accuracy: 0.9186 - val_loss: 0.2761 - val_binary_accuracy: 0.8898\n",
            "Epoch 3/20\n",
            "20000/20000 [==============================] - 4s 219us/step - loss: 0.1677 - binary_accuracy: 0.9429 - val_loss: 0.2794 - val_binary_accuracy: 0.8896\n",
            "Epoch 4/20\n",
            "20000/20000 [==============================] - 4s 207us/step - loss: 0.1341 - binary_accuracy: 0.9576 - val_loss: 0.2929 - val_binary_accuracy: 0.8860\n",
            "Epoch 5/20\n",
            "20000/20000 [==============================] - 4s 206us/step - loss: 0.1098 - binary_accuracy: 0.9675 - val_loss: 0.3078 - val_binary_accuracy: 0.8842\n",
            "Epoch 6/20\n",
            "20000/20000 [==============================] - 4s 203us/step - loss: 0.0907 - binary_accuracy: 0.9757 - val_loss: 0.3278 - val_binary_accuracy: 0.8806\n",
            "Epoch 7/20\n",
            "20000/20000 [==============================] - 4s 201us/step - loss: 0.0756 - binary_accuracy: 0.9819 - val_loss: 0.3526 - val_binary_accuracy: 0.8788\n",
            "Epoch 8/20\n",
            " 5120/20000 [======>.......................] - ETA: 2s - loss: 0.0640 - binary_accuracy: 0.9867"
          ],
          "name": "stdout"
        },
        {
          "output_type": "stream",
          "text": [
            "20000/20000 [==============================] - 4s 202us/step - loss: 0.0640 - binary_accuracy: 0.9861 - val_loss: 0.3771 - val_binary_accuracy: 0.8750\n",
            "Epoch 9/20\n",
            "20000/20000 [==============================] - 4s 202us/step - loss: 0.0547 - binary_accuracy: 0.9901 - val_loss: 0.3998 - val_binary_accuracy: 0.8766\n",
            "Epoch 10/20\n",
            "20000/20000 [==============================] - 4s 203us/step - loss: 0.0459 - binary_accuracy: 0.9931 - val_loss: 0.4264 - val_binary_accuracy: 0.8736\n",
            "Epoch 11/20\n",
            "20000/20000 [==============================] - 4s 203us/step - loss: 0.0385 - binary_accuracy: 0.9950 - val_loss: 0.4518 - val_binary_accuracy: 0.8744\n",
            "Epoch 12/20\n",
            "20000/20000 [==============================] - 4s 203us/step - loss: 0.0330 - binary_accuracy: 0.9961 - val_loss: 0.4755 - val_binary_accuracy: 0.8708\n",
            "Epoch 13/20\n",
            "20000/20000 [==============================] - 4s 204us/step - loss: 0.0283 - binary_accuracy: 0.9974 - val_loss: 0.4997 - val_binary_accuracy: 0.8710\n",
            "Epoch 14/20\n",
            "20000/20000 [==============================] - 4s 203us/step - loss: 0.0239 - binary_accuracy: 0.9980 - val_loss: 0.5211 - val_binary_accuracy: 0.8694\n",
            "Epoch 15/20\n",
            "14336/20000 [====================>.........] - ETA: 1s - loss: 0.0203 - binary_accuracy: 0.9991"
          ],
          "name": "stdout"
        },
        {
          "output_type": "stream",
          "text": [
            "20000/20000 [==============================] - 4s 205us/step - loss: 0.0206 - binary_accuracy: 0.9990 - val_loss: 0.5438 - val_binary_accuracy: 0.8716\n",
            "Epoch 16/20\n",
            "20000/20000 [==============================] - 4s 204us/step - loss: 0.0175 - binary_accuracy: 0.9992 - val_loss: 0.5655 - val_binary_accuracy: 0.8676\n",
            "Epoch 17/20\n",
            "20000/20000 [==============================] - 4s 204us/step - loss: 0.0153 - binary_accuracy: 0.9997 - val_loss: 0.5820 - val_binary_accuracy: 0.8696\n",
            "Epoch 18/20\n",
            "20000/20000 [==============================] - 4s 202us/step - loss: 0.0132 - binary_accuracy: 1.0000 - val_loss: 0.6025 - val_binary_accuracy: 0.8700\n",
            "Epoch 19/20\n",
            "20000/20000 [==============================] - 4s 204us/step - loss: 0.0116 - binary_accuracy: 1.0000 - val_loss: 0.6197 - val_binary_accuracy: 0.8708\n",
            "Epoch 20/20\n",
            "20000/20000 [==============================] - 4s 203us/step - loss: 0.0102 - binary_accuracy: 1.0000 - val_loss: 0.6371 - val_binary_accuracy: 0.8670\n"
          ],
          "name": "stdout"
        }
      ]
    },
    {
      "metadata": {
        "id": "BGa6_vDsYnjg",
        "colab_type": "code",
        "colab": {
          "base_uri": "https://localhost:8080/",
          "height": 477
        },
        "outputId": "8aa183d2-3e65-4a1f-af8b-4e3248abc198"
      },
      "cell_type": "code",
      "source": [
        "plot_metric(h1, 'loss')"
      ],
      "execution_count": 61,
      "outputs": [
        {
          "output_type": "display_data",
          "data": {
            "image/png": "[encoded data removed]",
            "text/plain": [
              "<matplotlib.figure.Figure at 0x7fd9e38e2080>"
            ]
          },
          "metadata": {
            "tags": []
          }
        }
      ]
    },
    {
      "metadata": {
        "id": "coIssWKDZIbF",
        "colab_type": "code",
        "colab": {}
      },
      "cell_type": "code",
      "source": [
        "# Si la validation loss va subiendo es un síntoma de overfitting, el modelo no es capaz de generalizar, se quitan capas\n",
        "# Underfitting sería que validation va bajando pero vemos que no suficiente. Se meten capas"
      ],
      "execution_count": 0,
      "outputs": []
    },
    {
      "metadata": {
        "id": "CyzrZlnhZswh",
        "colab_type": "code",
        "colab": {
          "base_uri": "https://localhost:8080/",
          "height": 477
        },
        "outputId": "68164a0b-50bc-42a6-fcf5-d9d50c18d4e5"
      },
      "cell_type": "code",
      "source": [
        "plot_metric(h1, \"binary_accuracy\")"
      ],
      "execution_count": 62,
      "outputs": [
        {
          "output_type": "display_data",
          "data": {
            "image/png": "[encoded data removed]",
            "text/plain": [
              "<matplotlib.figure.Figure at 0x7fd9e30a8eb8>"
            ]
          },
          "metadata": {
            "tags": []
          }
        }
      ]
    },
    {
      "metadata": {
        "id": "uy_1k2CUZ-GY",
        "colab_type": "code",
        "colab": {}
      },
      "cell_type": "code",
      "source": [
        "# Vemos que la curva del training es buena, se acerca al 1, el accuracy está bien\n",
        "# Pero la validación es malísima, no es capaz de predecir cosas que no ha visto. Hay overfitting\n",
        "# El modelo es malo."
      ],
      "execution_count": 0,
      "outputs": []
    },
    {
      "metadata": {
        "id": "C7yNsGC3oRgV",
        "colab_type": "text"
      },
      "cell_type": "markdown",
      "source": [
        "# Analyze performance"
      ]
    },
    {
      "metadata": {
        "id": "wQfuBbbWYLa-",
        "colab_type": "code",
        "colab": {
          "base_uri": "https://localhost:8080/",
          "height": 34
        },
        "outputId": "640922ee-5f8f-4807-cbe6-dad08816400b"
      },
      "cell_type": "code",
      "source": [
        "loss, acc = m1.evaluate(matrix_test, labels_test)"
      ],
      "execution_count": 63,
      "outputs": [
        {
          "output_type": "stream",
          "text": [
            "25000/25000 [==============================] - 5s 199us/step\n"
          ],
          "name": "stdout"
        }
      ]
    },
    {
      "metadata": {
        "id": "UYoACyERoRgW",
        "colab_type": "code",
        "colab": {
          "base_uri": "https://localhost:8080/",
          "height": 34
        },
        "outputId": "8d394649-9db7-4322-b8ca-6030ea102ea0"
      },
      "cell_type": "code",
      "source": [
        "loss, acc"
      ],
      "execution_count": 64,
      "outputs": [
        {
          "output_type": "execute_result",
          "data": {
            "text/plain": [
              "(0.6846111100625992, 0.85316)"
            ]
          },
          "metadata": {
            "tags": []
          },
          "execution_count": 64
        }
      ]
    },
    {
      "metadata": {
        "id": "bcxcSHajaXTG",
        "colab_type": "code",
        "colab": {}
      },
      "cell_type": "code",
      "source": [
        "# El modelo es malo pero nos ha dado un accuracy de un 85%\n",
        "# Puede que el test esté desbalanceado, imaginemos que de los 25000 comentarios 24000 sean positivos. Habría que haber revisado eso en el principio\n",
        "# Hemos perdido información a la hora de hacer la matriz y eso puede explicar el alto valor del accuracy\n",
        "# La métrica de accuracy es una mierda. \n",
        "# Para evaluar mejor el modelo podríamos ver el precission and recall(matriz de confusión), las curvas roc"
      ],
      "execution_count": 0,
      "outputs": []
    },
    {
      "metadata": {
        "id": "LDtg-dmZoRgZ",
        "colab_type": "text"
      },
      "cell_type": "markdown",
      "source": [
        "We cannot find a satisfactory model with what we have learned so far. Is there any way to have a better representation of text that can provide better results?"
      ]
    },
    {
      "metadata": {
        "id": "n5OVikmGoRgZ",
        "colab_type": "code",
        "colab": {
          "base_uri": "https://localhost:8080/",
          "height": 34
        },
        "outputId": "43053a46-9411-4916-df8e-ea43f29e4794"
      },
      "cell_type": "code",
      "source": [
        "get_text_from_vector(text_test[4][0:15])"
      ],
      "execution_count": 84,
      "outputs": [
        {
          "output_type": "execute_result",
          "data": {
            "text/plain": [
              "\"? like some other people wrote i'm a die hard mario fan and i loved\""
            ]
          },
          "metadata": {
            "tags": []
          },
          "execution_count": 84
        }
      ]
    },
    {
      "metadata": {
        "id": "hn0U9m8fbcwj",
        "colab_type": "code",
        "colab": {
          "base_uri": "https://localhost:8080/",
          "height": 34
        },
        "outputId": "e252ae3a-740b-44b7-f687-ef2db92a55c8"
      },
      "cell_type": "code",
      "source": [
        "labels_test[4]"
      ],
      "execution_count": 85,
      "outputs": [
        {
          "output_type": "execute_result",
          "data": {
            "text/plain": [
              "1"
            ]
          },
          "metadata": {
            "tags": []
          },
          "execution_count": 85
        }
      ]
    },
    {
      "metadata": {
        "id": "CClF1t7obckj",
        "colab_type": "code",
        "colab": {
          "base_uri": "https://localhost:8080/",
          "height": 34
        },
        "outputId": "3ce6f772-dd32-4c74-8716-ae5637aa8d9c"
      },
      "cell_type": "code",
      "source": [
        "m1.predict(matrix_test[4:5]) >= 0.5"
      ],
      "execution_count": 86,
      "outputs": [
        {
          "output_type": "execute_result",
          "data": {
            "text/plain": [
              "array([[ True]])"
            ]
          },
          "metadata": {
            "tags": []
          },
          "execution_count": 86
        }
      ]
    },
    {
      "metadata": {
        "id": "sTyeKy-FoRgc",
        "colab_type": "text"
      },
      "cell_type": "markdown",
      "source": [
        "# Word embeddings\n",
        "\n",
        "Using 1-HOT encoded vectors produce large and sparse tensors, that are difficult to learn from using a neural network. Word embeddings are compact vectors, representing words in a vector space. These vectors are learnt in a neural network, with a layer of type *Embedding*. We can also even use pre-trained word embeddings, to improve our model\n",
        "\n",
        "![](./imgs/07_embeddings.png)\n",
        "\n",
        "To generate  an embedding, we need to tokenize the text, transforming words into indices, and then we use these lists of numbers to produce the vectorial representation:\n",
        "\n",
        "![](./imgs/08_embeddings.png)\n",
        "\n",
        "More info:\n",
        "* http://www.offconvex.org/2015/12/12/word-embeddings-1/\n",
        "* http://www.offconvex.org/2016/02/14/word-embeddings-2/"
      ]
    },
    {
      "metadata": {
        "id": "10fE7pFRd5Hp",
        "colab_type": "code",
        "colab": {}
      },
      "cell_type": "code",
      "source": [
        "# Con el embeddings vamos a dejar a la red neuronal que sea ella la que haga las secuencias de los números del texto\n",
        "# Con esto el número de la palabra importa"
      ],
      "execution_count": 0,
      "outputs": []
    },
    {
      "metadata": {
        "id": "enZ3EtoboRgd",
        "colab_type": "text"
      },
      "cell_type": "markdown",
      "source": [
        "## Input data for word embeddings"
      ]
    },
    {
      "metadata": {
        "id": "Vz0-Lyo_oRge",
        "colab_type": "code",
        "colab": {}
      },
      "cell_type": "code",
      "source": [
        "max_words = 10000\n",
        "max_len = 100\n",
        "embeddings_dim = 12 #Se pone poco por economía, cuanto más mejor"
      ],
      "execution_count": 0,
      "outputs": []
    },
    {
      "metadata": {
        "id": "ZdIdhwjRePxX",
        "colab_type": "code",
        "colab": {}
      },
      "cell_type": "code",
      "source": [
        "# Como transformo las cosas a embeddings?"
      ],
      "execution_count": 0,
      "outputs": []
    },
    {
      "metadata": {
        "id": "SpEJeb3peWKJ",
        "colab_type": "code",
        "colab": {}
      },
      "cell_type": "code",
      "source": [
        "from keras.preprocessing import sequence"
      ],
      "execution_count": 0,
      "outputs": []
    },
    {
      "metadata": {
        "id": "8tQdRmIMeZEr",
        "colab_type": "code",
        "colab": {}
      },
      "cell_type": "code",
      "source": [
        "# Primero hacemos la matriz como antes, pero la rellenamos de ceros para que dimensiones consistentes para pasarlo al modelo. Lo ponemos en 100 por economía, para que el modelo entrene rápido\n",
        "# El texto sigue conservando sus propiedades, orden, palabras, repetidas, solo hemos cortado en 100 palabras.\n",
        "pad_train = sequence.pad_sequences(text_train, maxlen = max_len)\n",
        "pad_test = sequence.pad_sequences(text_test, maxlen = max_len)"
      ],
      "execution_count": 0,
      "outputs": []
    },
    {
      "metadata": {
        "id": "08c0i-1xoRgk",
        "colab_type": "text"
      },
      "cell_type": "markdown",
      "source": [
        "## Let's build the model with embeddings"
      ]
    },
    {
      "metadata": {
        "id": "ALtoFStZoRgl",
        "colab_type": "code",
        "colab": {}
      },
      "cell_type": "code",
      "source": [
        "m2 = models.Sequential()\n",
        "m2.add(layers.Embedding(max_words, embeddings_dim)) #Espacio vectorial de 10000 vectores diferentes (cada palabra)\n",
        "m2.add(layers.LSTM(32, return_sequences = True))\n",
        "m2.add(layers.LSTM(32))\n",
        "# m2.add(layers.SimpleRNN(32, return_sequences=True)) #Aprovecha la información de que las palabras están juntas. Aprovecha el orden de las palabras\n",
        "# m2.add(layers.SimpleRNN(32, return_sequences=True)) # El valor de salida de cada una de estas capas, puede ser un valor o la secuencia entera\n",
        "# m2.add(layers.SimpleRNN(32, return_sequences=True)) # Por eso ponemos return_sequences = True\n",
        "# # m2.add(layers.SimpleRNN(32, return_sequences=True))\n",
        "\n",
        "# m2.add(layers.Dense(128, activation = 'relu'))\n",
        "# m2.add(layers.Dense(64, activation = 'relu')) # Se ponen potencias de dos para que coja más memoria del ordenador\n",
        "# m2.add(layers.Dense(32, activation = 'relu')) # Las capas densas no valen para secuencias. Para ello es mejor las redes recurrentes.\n",
        "\n",
        "m2.add(layers.Dense(1, activation = 'sigmoid'))\n",
        "\n",
        "# Esta capa simple RNN no se usa, pero nos ayuda para explicar\n",
        "# Un problema con secuencias se usa LSTM"
      ],
      "execution_count": 0,
      "outputs": []
    },
    {
      "metadata": {
        "id": "gvoIUzoLhRmB",
        "colab_type": "code",
        "colab": {
          "base_uri": "https://localhost:8080/",
          "height": 272
        },
        "outputId": "6844637d-30fa-491a-ab55-dfe44234cfd2"
      },
      "cell_type": "code",
      "source": [
        "m2.summary()"
      ],
      "execution_count": 124,
      "outputs": [
        {
          "output_type": "stream",
          "text": [
            "_________________________________________________________________\n",
            "Layer (type)                 Output Shape              Param #   \n",
            "=================================================================\n",
            "embedding_8 (Embedding)      (None, None, 12)          120000    \n",
            "_________________________________________________________________\n",
            "lstm_3 (LSTM)                (None, None, 32)          5760      \n",
            "_________________________________________________________________\n",
            "lstm_4 (LSTM)                (None, 32)                8320      \n",
            "_________________________________________________________________\n",
            "dense_22 (Dense)             (None, 1)                 33        \n",
            "=================================================================\n",
            "Total params: 134,113\n",
            "Trainable params: 134,113\n",
            "Non-trainable params: 0\n",
            "_________________________________________________________________\n"
          ],
          "name": "stdout"
        }
      ]
    },
    {
      "metadata": {
        "id": "ngUHjm-mgsww",
        "colab_type": "code",
        "colab": {}
      },
      "cell_type": "code",
      "source": [
        "m2.compile(\n",
        "    optimizer = optimizers.adam(),\n",
        "    loss = losses.binary_crossentropy,\n",
        "    metrics = [metrics.binary_accuracy]\n",
        ")"
      ],
      "execution_count": 0,
      "outputs": []
    },
    {
      "metadata": {
        "id": "2BXPdkibg53e",
        "colab_type": "code",
        "colab": {
          "base_uri": "https://localhost:8080/",
          "height": 394
        },
        "outputId": "0e56dc2e-b436-4128-aac8-445c562611a4"
      },
      "cell_type": "code",
      "source": [
        "h2 = m2.fit(pad_train, labels_train.reshape(25000, 1), \n",
        "            epochs = 10, batch_size = 1024, validation_split = 0.2)"
      ],
      "execution_count": 126,
      "outputs": [
        {
          "output_type": "stream",
          "text": [
            "Train on 20000 samples, validate on 5000 samples\n",
            "Epoch 1/10\n",
            "20000/20000 [==============================] - 22s 1ms/step - loss: 0.6925 - binary_accuracy: 0.5143 - val_loss: 0.6901 - val_binary_accuracy: 0.5958\n",
            "Epoch 2/10\n",
            "20000/20000 [==============================] - 20s 988us/step - loss: 0.6340 - binary_accuracy: 0.7037 - val_loss: 0.5120 - val_binary_accuracy: 0.7528\n",
            "Epoch 3/10\n",
            "20000/20000 [==============================] - 20s 982us/step - loss: 0.4290 - binary_accuracy: 0.8127 - val_loss: 0.4203 - val_binary_accuracy: 0.8096\n",
            "Epoch 4/10\n",
            "20000/20000 [==============================] - 20s 987us/step - loss: 0.3140 - binary_accuracy: 0.8740 - val_loss: 0.3808 - val_binary_accuracy: 0.8326\n",
            "Epoch 5/10\n",
            "20000/20000 [==============================] - 20s 984us/step - loss: 0.2448 - binary_accuracy: 0.9116 - val_loss: 0.3785 - val_binary_accuracy: 0.8364\n",
            "Epoch 6/10\n",
            "20000/20000 [==============================] - 20s 982us/step - loss: 0.2045 - binary_accuracy: 0.9309 - val_loss: 0.4046 - val_binary_accuracy: 0.8316\n",
            "Epoch 7/10\n",
            "20000/20000 [==============================] - 20s 995us/step - loss: 0.1749 - binary_accuracy: 0.9430 - val_loss: 0.4376 - val_binary_accuracy: 0.8248\n",
            "Epoch 8/10\n",
            " 3072/20000 [===>..........................] - ETA: 15s - loss: 0.1480 - binary_accuracy: 0.9574"
          ],
          "name": "stdout"
        },
        {
          "output_type": "stream",
          "text": [
            "20000/20000 [==============================] - 20s 997us/step - loss: 0.1424 - binary_accuracy: 0.9591 - val_loss: 0.4916 - val_binary_accuracy: 0.8202\n",
            "Epoch 9/10\n",
            "20000/20000 [==============================] - 20s 1ms/step - loss: 0.1194 - binary_accuracy: 0.9683 - val_loss: 0.5401 - val_binary_accuracy: 0.8192\n",
            "Epoch 10/10\n",
            "20000/20000 [==============================] - 20s 1ms/step - loss: 0.1058 - binary_accuracy: 0.9736 - val_loss: 0.5730 - val_binary_accuracy: 0.8142\n"
          ],
          "name": "stdout"
        }
      ]
    },
    {
      "metadata": {
        "id": "QjeDp8-viroV",
        "colab_type": "code",
        "colab": {
          "base_uri": "https://localhost:8080/",
          "height": 477
        },
        "outputId": "80d672d9-4ce4-4ce9-ed4e-9a31257ae157"
      },
      "cell_type": "code",
      "source": [
        "plot_metric(h2, 'loss')\n",
        "# Vemos que se queda clavado en pocas épocas y ya no aprende más. \n",
        "# Es porque hemos puesto una sola capa. Añadimos capas"
      ],
      "execution_count": 127,
      "outputs": [
        {
          "output_type": "display_data",
          "data": {
            "image/png": "[encoded data removed]",
            "text/plain": [
              "<matplotlib.figure.Figure at 0x7fd9dd836630>"
            ]
          },
          "metadata": {
            "tags": []
          }
        }
      ]
    },
    {
      "metadata": {
        "id": "nwEOpozAjR3z",
        "colab_type": "code",
        "colab": {
          "base_uri": "https://localhost:8080/",
          "height": 477
        },
        "outputId": "a76983dc-f8ec-46e3-9a75-34922f709ab5"
      },
      "cell_type": "code",
      "source": [
        "plot_metric(h2, 'binary_accuracy')"
      ],
      "execution_count": 128,
      "outputs": [
        {
          "output_type": "display_data",
          "data": {
            "image/png": "[encoded data removed]",
            "text/plain": [
              "<matplotlib.figure.Figure at 0x7fd9dd73f860>"
            ]
          },
          "metadata": {
            "tags": []
          }
        }
      ]
    },
    {
      "metadata": {
        "id": "1xjJbbMkoRgq",
        "colab_type": "text"
      },
      "cell_type": "markdown",
      "source": [
        "## Analyze performance"
      ]
    },
    {
      "metadata": {
        "id": "T3010el1oRgr",
        "colab_type": "text"
      },
      "cell_type": "markdown",
      "source": [
        "Not bad, with just an embedding layer, we get $75\\%$ accuracy"
      ]
    },
    {
      "metadata": {
        "id": "yZosdb8noRgs",
        "colab_type": "code",
        "colab": {
          "base_uri": "https://localhost:8080/",
          "height": 34
        },
        "outputId": "a45ec37b-fe02-4886-e96e-09b2fb7b7d9b"
      },
      "cell_type": "code",
      "source": [
        "loss, acc = m2.evaluate(pad_test, labels_test, batch_size = 1024)"
      ],
      "execution_count": 129,
      "outputs": [
        {
          "output_type": "stream",
          "text": [
            "25000/25000 [==============================] - 6s 245us/step\n"
          ],
          "name": "stdout"
        }
      ]
    },
    {
      "metadata": {
        "id": "jRVx6i-1oGPY",
        "colab_type": "code",
        "colab": {
          "base_uri": "https://localhost:8080/",
          "height": 34
        },
        "outputId": "fc9e82a1-f157-4842-aeb8-c592fb4cd932"
      },
      "cell_type": "code",
      "source": [
        "loss, acc"
      ],
      "execution_count": 130,
      "outputs": [
        {
          "output_type": "execute_result",
          "data": {
            "text/plain": [
              "(0.5960886834335327, 0.8075999998283386)"
            ]
          },
          "metadata": {
            "tags": []
          },
          "execution_count": 130
        }
      ]
    },
    {
      "metadata": {
        "id": "9Lf2jGVLoRgw",
        "colab_type": "text"
      },
      "cell_type": "markdown",
      "source": [
        "How many reviews will be misclassified?"
      ]
    },
    {
      "metadata": {
        "id": "l4F7WF7eoRgw",
        "colab_type": "code",
        "colab": {
          "base_uri": "https://localhost:8080/",
          "height": 34
        },
        "outputId": "98ad0dad-3cee-4587-a32a-ae18960d3c4f"
      },
      "cell_type": "code",
      "source": [
        "(1-acc) * len(labels_test)"
      ],
      "execution_count": 131,
      "outputs": [
        {
          "output_type": "execute_result",
          "data": {
            "text/plain": [
              "4810.000004291534"
            ]
          },
          "metadata": {
            "tags": []
          },
          "execution_count": 131
        }
      ]
    },
    {
      "metadata": {
        "id": "a2B0DH91oRgx",
        "colab_type": "text"
      },
      "cell_type": "markdown",
      "source": [
        "Let's check some of the predictions"
      ]
    },
    {
      "metadata": {
        "id": "Ty4hSBoXoRgy",
        "colab_type": "code",
        "colab": {}
      },
      "cell_type": "code",
      "source": [
        "N = 123\n",
        "# N = 2344"
      ],
      "execution_count": 0,
      "outputs": []
    },
    {
      "metadata": {
        "id": "UbdF7fc3oRg0",
        "colab_type": "code",
        "colab": {}
      },
      "cell_type": "code",
      "source": [
        ""
      ],
      "execution_count": 0,
      "outputs": []
    },
    {
      "metadata": {
        "id": "DBcpn2RMoRg1",
        "colab_type": "text"
      },
      "cell_type": "markdown",
      "source": [
        "So this prediction is correct. It says the review is negative. Let's have a look at the text:"
      ]
    },
    {
      "metadata": {
        "id": "xRptp0tkoRg2",
        "colab_type": "code",
        "colab": {},
        "outputId": "932e5967-4192-4d8f-8d88-852cc8b70a46"
      },
      "cell_type": "code",
      "source": [
        "get_text_from_vector(test_text[N])"
      ],
      "execution_count": 0,
      "outputs": [
        {
          "output_type": "execute_result",
          "data": {
            "text/plain": [
              "\"? if you believe that any given war movie can make you really feel the war you need to see called the ? are flying in english it tells the story of ? ? and boris who are in love on the verge of wwii they are walking along the ? watching the ? fly by when the war starts boris is promptly sent off to war ? hides out with a family and ends up marrying the son whom she does not love boris meanwhile continues ? through the countryside fighting the nazis and experiencing all the horrors of war until he he runs out of energy when ? working in a military hospital receives this news she refuses to accept it until ? body arrives home on one of the trains simultaneously the radio ? that germany has ? and the allied powers have won the war the soviet union lost 27 million citizens but it's the start of a new era br br this movie did a very good job showing the human impact of the war not only in the battlefield but also how it affected the ? population this is definitely a movie that everyone should see\""
            ]
          },
          "metadata": {
            "tags": []
          },
          "execution_count": 49
        }
      ]
    },
    {
      "metadata": {
        "id": "KrB6Eat3oRg4",
        "colab_type": "text"
      },
      "cell_type": "markdown",
      "source": [
        "Can we find all the reviews that are wrongly classified?"
      ]
    },
    {
      "metadata": {
        "id": "S6Mnmw97oRg5",
        "colab_type": "code",
        "colab": {}
      },
      "cell_type": "code",
      "source": [
        ""
      ],
      "execution_count": 0,
      "outputs": []
    },
    {
      "metadata": {
        "id": "6ornlXijoRg6",
        "colab_type": "code",
        "colab": {},
        "outputId": "f153798f-2881-447e-afa7-944271b8d7f9"
      },
      "cell_type": "code",
      "source": [
        "get_text_from_vector(test_text[3])"
      ],
      "execution_count": 0,
      "outputs": [
        {
          "output_type": "execute_result",
          "data": {
            "text/plain": [
              "\"? i generally love this type of movie however this time i found myself wanting to kick the screen since i can't do that i will just complain about it this was absolutely idiotic the things that happen with the dead kids are very cool but the alive people are absolute idiots i am a grown man pretty big and i can defend myself well however i would not do half the stuff the little girl does in this movie also the mother in this movie is reckless with her children to the point of neglect i wish i wasn't so angry about her and her actions because i would have otherwise enjoyed the flick what a number she was take my advise and fast forward through everything you see her do until the end also is anyone else getting sick of watching movies that are filmed so dark anymore one can hardly see what is being filmed as an audience we are ? involved with the actions on the screen so then why the hell can't we have night vision\""
            ]
          },
          "metadata": {
            "tags": []
          },
          "execution_count": 61
        }
      ]
    },
    {
      "metadata": {
        "id": "28xTmhRkoRg9",
        "colab_type": "text"
      },
      "cell_type": "markdown",
      "source": [
        "Is the classifier symmetric?"
      ]
    },
    {
      "metadata": {
        "id": "E57Up6zmoRg-",
        "colab_type": "code",
        "colab": {}
      },
      "cell_type": "code",
      "source": [
        "preds = m2.predict(pad_test)"
      ],
      "execution_count": 0,
      "outputs": []
    },
    {
      "metadata": {
        "id": "0ncH5OsoozHh",
        "colab_type": "code",
        "colab": {
          "base_uri": "https://localhost:8080/",
          "height": 34
        },
        "outputId": "8296fa9a-6096-45b6-b97b-b6412cf30977"
      },
      "cell_type": "code",
      "source": [
        "preds.shape"
      ],
      "execution_count": 133,
      "outputs": [
        {
          "output_type": "execute_result",
          "data": {
            "text/plain": [
              "(25000, 1)"
            ]
          },
          "metadata": {
            "tags": []
          },
          "execution_count": 133
        }
      ]
    },
    {
      "metadata": {
        "id": "dOhxWyiepQp5",
        "colab_type": "code",
        "colab": {
          "base_uri": "https://localhost:8080/",
          "height": 187
        },
        "outputId": "a58b73a7-fa77-4633-890c-2bc7ae83742d"
      },
      "cell_type": "code",
      "source": [
        "preds[0:10]"
      ],
      "execution_count": 134,
      "outputs": [
        {
          "output_type": "execute_result",
          "data": {
            "text/plain": [
              "array([[0.01673322],\n",
              "       [0.9877071 ],\n",
              "       [0.9859256 ],\n",
              "       [0.0708336 ],\n",
              "       [0.9921423 ],\n",
              "       [0.03133363],\n",
              "       [0.991026  ],\n",
              "       [0.00828223],\n",
              "       [0.97699964],\n",
              "       [0.9893237 ]], dtype=float32)"
            ]
          },
          "metadata": {
            "tags": []
          },
          "execution_count": 134
        }
      ]
    },
    {
      "metadata": {
        "id": "RPoxRS5ppTc6",
        "colab_type": "code",
        "colab": {}
      },
      "cell_type": "code",
      "source": [
        "preds_binary = preds >= 0.5"
      ],
      "execution_count": 0,
      "outputs": []
    },
    {
      "metadata": {
        "id": "2AIUbRlppYPp",
        "colab_type": "code",
        "colab": {
          "base_uri": "https://localhost:8080/",
          "height": 187
        },
        "outputId": "7ec692ac-be3b-4323-bbef-42d8f850ffc1"
      },
      "cell_type": "code",
      "source": [
        "preds_binary[0:10]"
      ],
      "execution_count": 136,
      "outputs": [
        {
          "output_type": "execute_result",
          "data": {
            "text/plain": [
              "array([[False],\n",
              "       [ True],\n",
              "       [ True],\n",
              "       [False],\n",
              "       [ True],\n",
              "       [False],\n",
              "       [ True],\n",
              "       [False],\n",
              "       [ True],\n",
              "       [ True]])"
            ]
          },
          "metadata": {
            "tags": []
          },
          "execution_count": 136
        }
      ]
    },
    {
      "metadata": {
        "id": "SY_g-l49pfE5",
        "colab_type": "code",
        "colab": {}
      },
      "cell_type": "code",
      "source": [
        "correct_pos = np.where(preds_binary == labels_test)"
      ],
      "execution_count": 0,
      "outputs": []
    },
    {
      "metadata": {
        "id": "epbVqdHIp8Gt",
        "colab_type": "code",
        "colab": {}
      },
      "cell_type": "code",
      "source": [
        "wrong_pos = np.where(preds_binary != labels_test)"
      ],
      "execution_count": 0,
      "outputs": []
    },
    {
      "metadata": {
        "id": "5ejXtdrqqA4_",
        "colab_type": "code",
        "colab": {}
      },
      "cell_type": "code",
      "source": [
        ""
      ],
      "execution_count": 0,
      "outputs": []
    },
    {
      "metadata": {
        "id": "WqzscoPKoRhA",
        "colab_type": "text"
      },
      "cell_type": "markdown",
      "source": [
        "**EXERCISE** Can you construct the confusion matrix for this model? Can you calculate the precision and recall? How does it compare to accuracy?\n",
        "* See https://www.dataschool.io/simple-guide-to-confusion-matrix-terminology/\n",
        "\n",
        "**EXERCISE (more complex)** Keras decided some time ago to remove precision, recall and F1-score from the list of available metrics. Was it a good decision? Why? Why did the Keras' authors did not remove accuracy too?\n",
        "* https://github.com/keras-team/keras/issues/5794\n",
        "* https://github.com/keras-team/keras/issues/4592\n",
        "\n",
        "**EXERCISE** What is the ROC curve? Could you build the ROC curve for this model? How would you use a ROC curve to evaluate a classifier?\n",
        "* https://en.wikipedia.org/wiki/Receiver_operating_characteristic\n",
        "* Help: https://stackoverflow.com/questions/25009284/how-to-plot-roc-curve-in-python"
      ]
    },
    {
      "metadata": {
        "id": "J-qvZoRNoRhA",
        "colab_type": "code",
        "colab": {}
      },
      "cell_type": "code",
      "source": [
        ""
      ],
      "execution_count": 0,
      "outputs": []
    },
    {
      "metadata": {
        "id": "T9hE3R1FoRhC",
        "colab_type": "text"
      },
      "cell_type": "markdown",
      "source": [
        "Let's analyze wrong positives and wrong negatives separately. Then we will try to find a relationship between the words and the misclassification, both for false positives and negatives."
      ]
    },
    {
      "metadata": {
        "id": "kMt8-BmioRhC",
        "colab_type": "code",
        "colab": {}
      },
      "cell_type": "code",
      "source": [
        ""
      ],
      "execution_count": 0,
      "outputs": []
    },
    {
      "metadata": {
        "id": "YWAuc__PoRhE",
        "colab_type": "text"
      },
      "cell_type": "markdown",
      "source": [
        "Now let's compare with the words of the true positives"
      ]
    },
    {
      "metadata": {
        "id": "xk9RAMk_oRhE",
        "colab_type": "code",
        "colab": {}
      },
      "cell_type": "code",
      "source": [
        ""
      ],
      "execution_count": 0,
      "outputs": []
    },
    {
      "metadata": {
        "id": "mOhAifCEoRhF",
        "colab_type": "text"
      },
      "cell_type": "markdown",
      "source": [
        "So the most common words are very similar. Not surprising. Let's calculate the relative frequency of each word, and then find what are the words with the highest difference in relative frequency."
      ]
    },
    {
      "metadata": {
        "id": "tBNG1aKYoRhG",
        "colab_type": "code",
        "colab": {}
      },
      "cell_type": "code",
      "source": [
        ""
      ],
      "execution_count": 0,
      "outputs": []
    },
    {
      "metadata": {
        "id": "E7vP9BhsoRhI",
        "colab_type": "text"
      },
      "cell_type": "markdown",
      "source": [
        "We see words such as *great*, *best*, *excellent*, which have a large difference between the true and the false positives. So false positives seem to lack some extreme words, and the classifier is having a hard time trying to assign a category to those reviews."
      ]
    },
    {
      "metadata": {
        "id": "AP1KNk2loRhJ",
        "colab_type": "code",
        "colab": {}
      },
      "cell_type": "code",
      "source": [
        ""
      ],
      "execution_count": 0,
      "outputs": []
    }
  ]
}