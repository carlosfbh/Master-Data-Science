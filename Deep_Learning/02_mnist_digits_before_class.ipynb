{
 "cells": [
  {
   "cell_type": "code",
   "execution_count": 1,
   "metadata": {
    "colab": {
     "autoexec": {
      "startup": false,
      "wait_interval": 0
     },
     "base_uri": "https://localhost:8080/",
     "height": 141
    },
    "colab_type": "code",
    "collapsed": true,
    "executionInfo": {
     "elapsed": 2735,
     "status": "ok",
     "timestamp": 1531565979340,
     "user": {
      "displayName": "Israel Herraiz",
      "photoUrl": "https://lh3.googleusercontent.com/a/default-user=s128",
      "userId": "114232750363927198683"
     },
     "user_tz": -120
    },
    "id": "j4c9aOJ7ShGS",
    "outputId": "5fd6b183-87c5-48c9-ffe7-fcb4f29d483f"
   },
   "outputs": [
    {
     "name": "stdout",
     "output_type": "stream",
     "text": [
      "Requirement already satisfied: keras in /usr/local/lib/python3.6/dist-packages (2.1.6)\r\n",
      "Requirement already satisfied: h5py in /usr/local/lib/python3.6/dist-packages (from keras) (2.8.0)\r\n",
      "Requirement already satisfied: six>=1.9.0 in /usr/local/lib/python3.6/dist-packages (from keras) (1.11.0)\n",
      "Requirement already satisfied: scipy>=0.14 in /usr/local/lib/python3.6/dist-packages (from keras) (0.19.1)\n",
      "Requirement already satisfied: pyyaml in /usr/local/lib/python3.6/dist-packages (from keras) (3.13)\n",
      "Requirement already satisfied: numpy>=1.9.1 in /usr/local/lib/python3.6/dist-packages (from keras) (1.14.5)\n"
     ]
    }
   ],
   "source": [
    "!pip install keras"
   ]
  },
  {
   "cell_type": "code",
   "execution_count": 2,
   "metadata": {
    "colab": {
     "autoexec": {
      "startup": false,
      "wait_interval": 0
     },
     "base_uri": "https://localhost:8080/",
     "height": 35
    },
    "colab_type": "code",
    "executionInfo": {
     "elapsed": 493,
     "status": "ok",
     "timestamp": 1531565980347,
     "user": {
      "displayName": "Israel Herraiz",
      "photoUrl": "https://lh3.googleusercontent.com/a/default-user=s128",
      "userId": "114232750363927198683"
     },
     "user_tz": -120
    },
    "id": "j56CpnmhgXiT",
    "outputId": "380f5994-24ac-4295-8cc8-eb9e57b9c97b"
   },
   "outputs": [
    {
     "name": "stdout",
     "output_type": "stream",
     "text": [
      "Populating the interactive namespace from numpy and matplotlib\n"
     ]
    }
   ],
   "source": [
    "%pylab inline\n",
    "plt.style.use('seaborn-talk')"
   ]
  },
  {
   "cell_type": "markdown",
   "metadata": {
    "colab_type": "text",
    "id": "Qij_GFYTgXiY"
   },
   "source": [
    "We will use this function to plot the metrics of our training process, to help in choosing the best model"
   ]
  },
  {
   "cell_type": "code",
   "execution_count": 0,
   "metadata": {
    "colab": {
     "autoexec": {
      "startup": false,
      "wait_interval": 0
     }
    },
    "colab_type": "code",
    "collapsed": true,
    "id": "2OvUzGGtgXiY"
   },
   "outputs": [],
   "source": [
    "def plot_metric(history, metric):\n",
    "    history_dict = history.history\n",
    "    values = history_dict[metric]\n",
    "    if 'val_' + metric in history_dict.keys():  \n",
    "        val_values = history_dict['val_' + metric]\n",
    "\n",
    "    epochs = range(1, len(values) + 1)\n",
    "\n",
    "    if 'val_' + metric in history_dict.keys():  \n",
    "        plt.plot(epochs, val_values, label='Validation')\n",
    "    plt.semilogy(epochs, values, label='Training')\n",
    "\n",
    "    if 'val_' + metric in history_dict.keys():  \n",
    "        plt.title('Training and validation %s' % metric)\n",
    "    else:\n",
    "        plt.title('Training %s' % metric)\n",
    "    plt.xlabel('Epochs')\n",
    "    plt.ylabel(metric.capitalize())\n",
    "    plt.legend()\n",
    "    plt.grid()\n",
    "\n",
    "    plt.show()  "
   ]
  },
  {
   "cell_type": "markdown",
   "metadata": {
    "colab_type": "text",
    "id": "7AKe5TtMgXib"
   },
   "source": [
    "We will use this function to explore the data"
   ]
  },
  {
   "cell_type": "code",
   "execution_count": 0,
   "metadata": {
    "colab": {
     "autoexec": {
      "startup": false,
      "wait_interval": 0
     }
    },
    "colab_type": "code",
    "collapsed": true,
    "id": "6uMK_1MxgXib"
   },
   "outputs": [],
   "source": [
    "def plot_mnist_image(N, imgs, labels):\n",
    "  print(\"The image below should show the number %d\" % labels[N])\n",
    "  plt.imshow(imgs[N,], cmap=plt.cm.binary)\n",
    "  plt.grid(True)"
   ]
  },
  {
   "cell_type": "markdown",
   "metadata": {
    "colab_type": "text",
    "id": "9oaqh4esgXid"
   },
   "source": [
    "# The problem\n",
    "\n",
    "We will recognize handwritten digits. For an image containing a number between 0 and 9, we will recognize the number and will produce an int as output"
   ]
  },
  {
   "cell_type": "code",
   "execution_count": 5,
   "metadata": {
    "colab": {
     "autoexec": {
      "startup": false,
      "wait_interval": 0
     },
     "base_uri": "https://localhost:8080/",
     "height": 35
    },
    "colab_type": "code",
    "executionInfo": {
     "elapsed": 8261,
     "status": "ok",
     "timestamp": 1531565990855,
     "user": {
      "displayName": "Israel Herraiz",
      "photoUrl": "https://lh3.googleusercontent.com/a/default-user=s128",
      "userId": "114232750363927198683"
     },
     "user_tz": -120
    },
    "id": "X1LwRZgjgXid",
    "outputId": "61764449-3cec-46a7-94fe-7f05af15d3f5"
   },
   "outputs": [
    {
     "name": "stderr",
     "output_type": "stream",
     "text": [
      "Using TensorFlow backend.\n"
     ]
    }
   ],
   "source": [
    "from keras.datasets import mnist"
   ]
  },
  {
   "cell_type": "code",
   "execution_count": 6,
   "metadata": {
    "colab": {
     "autoexec": {
      "startup": false,
      "wait_interval": 0
     },
     "base_uri": "https://localhost:8080/",
     "height": 52
    },
    "colab_type": "code",
    "executionInfo": {
     "elapsed": 2938,
     "status": "ok",
     "timestamp": 1531565993817,
     "user": {
      "displayName": "Israel Herraiz",
      "photoUrl": "https://lh3.googleusercontent.com/a/default-user=s128",
      "userId": "114232750363927198683"
     },
     "user_tz": -120
    },
    "id": "LAHcH1YBgXig",
    "outputId": "a08f9724-e891-4bfd-cd38-d601ff2bec41"
   },
   "outputs": [
    {
     "name": "stdout",
     "output_type": "stream",
     "text": [
      "Downloading data from https://s3.amazonaws.com/img-datasets/mnist.npz\n",
      "11493376/11490434 [==============================] - 2s 0us/step\n"
     ]
    }
   ],
   "source": [
    "# Run this to download the data prior to the lecture\n",
    "train_orig_data, test_orig_data = mnist.load_data()"
   ]
  },
  {
   "cell_type": "code",
   "execution_count": 0,
   "metadata": {
    "colab": {
     "autoexec": {
      "startup": false,
      "wait_interval": 0
     }
    },
    "colab_type": "code",
    "collapsed": true,
    "id": "n7OK9EaegXii"
   },
   "outputs": [],
   "source": [
    "train_imgs, train_labels = train_orig_data"
   ]
  },
  {
   "cell_type": "code",
   "execution_count": 8,
   "metadata": {
    "colab": {
     "autoexec": {
      "startup": false,
      "wait_interval": 0
     },
     "base_uri": "https://localhost:8080/",
     "height": 35
    },
    "colab_type": "code",
    "executionInfo": {
     "elapsed": 425,
     "status": "ok",
     "timestamp": 1531565994947,
     "user": {
      "displayName": "Israel Herraiz",
      "photoUrl": "https://lh3.googleusercontent.com/a/default-user=s128",
      "userId": "114232750363927198683"
     },
     "user_tz": -120
    },
    "id": "FsuqAViKUobP",
    "outputId": "ada1a966-f1b9-4cae-dfd7-bfac3a7bb50f"
   },
   "outputs": [
    {
     "data": {
      "text/plain": [
       "(60000, 28, 28)"
      ]
     },
     "execution_count": 8,
     "metadata": {
      "tags": []
     },
     "output_type": "execute_result"
    }
   ],
   "source": [
    "train_imgs.shape"
   ]
  },
  {
   "cell_type": "code",
   "execution_count": 9,
   "metadata": {
    "colab": {
     "autoexec": {
      "startup": false,
      "wait_interval": 0
     },
     "base_uri": "https://localhost:8080/",
     "height": 35
    },
    "colab_type": "code",
    "executionInfo": {
     "elapsed": 438,
     "status": "ok",
     "timestamp": 1531565996977,
     "user": {
      "displayName": "Israel Herraiz",
      "photoUrl": "https://lh3.googleusercontent.com/a/default-user=s128",
      "userId": "114232750363927198683"
     },
     "user_tz": -120
    },
    "id": "Yn6lF4phUp9v",
    "outputId": "8a62b35f-eec2-49c0-e499-687032f403d6"
   },
   "outputs": [
    {
     "data": {
      "text/plain": [
       "(60000,)"
      ]
     },
     "execution_count": 9,
     "metadata": {
      "tags": []
     },
     "output_type": "execute_result"
    }
   ],
   "source": [
    "train_labels.shape"
   ]
  },
  {
   "cell_type": "code",
   "execution_count": 0,
   "metadata": {
    "colab": {
     "autoexec": {
      "startup": false,
      "wait_interval": 0
     }
    },
    "colab_type": "code",
    "collapsed": true,
    "id": "8bj6aWwFWLFa"
   },
   "outputs": [],
   "source": [
    "test_imgs, test_labels = test_orig_data"
   ]
  },
  {
   "cell_type": "code",
   "execution_count": 11,
   "metadata": {
    "colab": {
     "autoexec": {
      "startup": false,
      "wait_interval": 0
     },
     "base_uri": "https://localhost:8080/",
     "height": 35
    },
    "colab_type": "code",
    "executionInfo": {
     "elapsed": 410,
     "status": "ok",
     "timestamp": 1531565998124,
     "user": {
      "displayName": "Israel Herraiz",
      "photoUrl": "https://lh3.googleusercontent.com/a/default-user=s128",
      "userId": "114232750363927198683"
     },
     "user_tz": -120
    },
    "id": "VsLAbiwqWOI-",
    "outputId": "64708a50-adc4-42c5-9deb-9fe05ed8939e"
   },
   "outputs": [
    {
     "data": {
      "text/plain": [
       "(10000, 28, 28)"
      ]
     },
     "execution_count": 11,
     "metadata": {
      "tags": []
     },
     "output_type": "execute_result"
    }
   ],
   "source": [
    "test_imgs.shape"
   ]
  },
  {
   "cell_type": "code",
   "execution_count": 12,
   "metadata": {
    "colab": {
     "autoexec": {
      "startup": false,
      "wait_interval": 0
     },
     "base_uri": "https://localhost:8080/",
     "height": 35
    },
    "colab_type": "code",
    "executionInfo": {
     "elapsed": 406,
     "status": "ok",
     "timestamp": 1531565998784,
     "user": {
      "displayName": "Israel Herraiz",
      "photoUrl": "https://lh3.googleusercontent.com/a/default-user=s128",
      "userId": "114232750363927198683"
     },
     "user_tz": -120
    },
    "id": "K04Tt5GrWPvI",
    "outputId": "e0eceaba-944d-4499-a20a-fcc9a480f999"
   },
   "outputs": [
    {
     "data": {
      "text/plain": [
       "(10000,)"
      ]
     },
     "execution_count": 12,
     "metadata": {
      "tags": []
     },
     "output_type": "execute_result"
    }
   ],
   "source": [
    "test_labels.shape"
   ]
  },
  {
   "cell_type": "markdown",
   "metadata": {
    "colab_type": "text",
    "id": "EamCkPZXgXik"
   },
   "source": [
    "We will design a network that will be able to recognize that the image is showing the number 7 (for all the images in the test set)"
   ]
  },
  {
   "cell_type": "code",
   "execution_count": 13,
   "metadata": {
    "colab": {
     "autoexec": {
      "startup": false,
      "wait_interval": 0
     },
     "base_uri": "https://localhost:8080/",
     "height": 35
    },
    "colab_type": "code",
    "executionInfo": {
     "elapsed": 603,
     "status": "ok",
     "timestamp": 1531565999790,
     "user": {
      "displayName": "Israel Herraiz",
      "photoUrl": "https://lh3.googleusercontent.com/a/default-user=s128",
      "userId": "114232750363927198683"
     },
     "user_tz": -120
    },
    "id": "i8RACqTxW3kt",
    "outputId": "d31c4bbb-6057-4245-e282-b215472a27bf"
   },
   "outputs": [
    {
     "data": {
      "text/plain": [
       "(28, 28)"
      ]
     },
     "execution_count": 13,
     "metadata": {
      "tags": []
     },
     "output_type": "execute_result"
    }
   ],
   "source": [
    "train_imgs[2543].shape"
   ]
  },
  {
   "cell_type": "code",
   "execution_count": 14,
   "metadata": {
    "colab": {
     "autoexec": {
      "startup": false,
      "wait_interval": 0
     },
     "base_uri": "https://localhost:8080/",
     "height": 35
    },
    "colab_type": "code",
    "executionInfo": {
     "elapsed": 373,
     "status": "ok",
     "timestamp": 1531566000766,
     "user": {
      "displayName": "Israel Herraiz",
      "photoUrl": "https://lh3.googleusercontent.com/a/default-user=s128",
      "userId": "114232750363927198683"
     },
     "user_tz": -120
    },
    "id": "n9Ov_jh_XGtS",
    "outputId": "29b476e4-b1fb-4f6b-cd17-4ce23a8b2e0e"
   },
   "outputs": [
    {
     "data": {
      "text/plain": [
       "7"
      ]
     },
     "execution_count": 14,
     "metadata": {
      "tags": []
     },
     "output_type": "execute_result"
    }
   ],
   "source": [
    "train_labels[2543]"
   ]
  },
  {
   "cell_type": "code",
   "execution_count": 15,
   "metadata": {
    "colab": {
     "autoexec": {
      "startup": false,
      "wait_interval": 0
     },
     "base_uri": "https://localhost:8080/",
     "height": 459
    },
    "colab_type": "code",
    "executionInfo": {
     "elapsed": 720,
     "status": "ok",
     "timestamp": 1531566001706,
     "user": {
      "displayName": "Israel Herraiz",
      "photoUrl": "https://lh3.googleusercontent.com/a/default-user=s128",
      "userId": "114232750363927198683"
     },
     "user_tz": -120
    },
    "id": "74R0bElhXLsQ",
    "outputId": "62d969eb-685d-475b-fbc8-9c1d4ff1afd7"
   },
   "outputs": [
    {
     "name": "stdout",
     "output_type": "stream",
     "text": [
      "The image below should show the number 7\n"
     ]
    },
    {
     "data": {
      "image/png": "[encoded data removed]",
      "text/plain": [
       "<matplotlib.figure.Figure at 0x7f6a4631f1d0>"
      ]
     },
     "metadata": {
      "tags": []
     },
     "output_type": "display_data"
    }
   ],
   "source": [
    "plot_mnist_image(2543, train_imgs, train_labels)"
   ]
  },
  {
   "cell_type": "markdown",
   "metadata": {
    "colab_type": "text",
    "id": "6VcHsTCtgXil"
   },
   "source": [
    "## Data transform\n",
    "\n",
    "We need to change the shape of the data, so it can be fed to the network more easily"
   ]
  },
  {
   "cell_type": "markdown",
   "metadata": {
    "colab_type": "text",
    "id": "ws_yhbbugXim"
   },
   "source": [
    "All the images are 28x28 matrices, with values between 0 and 255. Let's normalize the images, to avoid problems in the numerical computations using large numbers.\n",
    "\n",
    "We will convert the matrix to a vector with 28x28 components, stacking columns on top of each other. This will make the design of the network.\n",
    "* Alternatively, we could add a `Flatten(input_shape=(28,28))` layer to the model"
   ]
  },
  {
   "cell_type": "code",
   "execution_count": 0,
   "metadata": {
    "colab": {
     "autoexec": {
      "startup": false,
      "wait_interval": 0
     }
    },
    "colab_type": "code",
    "collapsed": true,
    "id": "WLCY6pLIgXio"
   },
   "outputs": [],
   "source": [
    "train_imgs_n = train_imgs/255\n",
    "test_imgs_n = test_imgs/255"
   ]
  },
  {
   "cell_type": "code",
   "execution_count": 17,
   "metadata": {
    "colab": {
     "autoexec": {
      "startup": false,
      "wait_interval": 0
     },
     "base_uri": "https://localhost:8080/",
     "height": 459
    },
    "colab_type": "code",
    "executionInfo": {
     "elapsed": 444,
     "status": "ok",
     "timestamp": 1531566003589,
     "user": {
      "displayName": "Israel Herraiz",
      "photoUrl": "https://lh3.googleusercontent.com/a/default-user=s128",
      "userId": "114232750363927198683"
     },
     "user_tz": -120
    },
    "id": "eC_qkUdkYIqn",
    "outputId": "f40ca4cb-0c2a-4ad7-d952-9e9a5816075e"
   },
   "outputs": [
    {
     "name": "stdout",
     "output_type": "stream",
     "text": [
      "The image below should show the number 7\n"
     ]
    },
    {
     "data": {
      "image/png": "[encoded data removed]",
      "text/plain": [
       "<matplotlib.figure.Figure at 0x7f6a46357860>"
      ]
     },
     "metadata": {
      "tags": []
     },
     "output_type": "display_data"
    }
   ],
   "source": [
    "plot_mnist_image(2543, train_imgs_n, train_labels)"
   ]
  },
  {
   "cell_type": "markdown",
   "metadata": {
    "colab_type": "text",
    "id": "AYm57q7YgXiq"
   },
   "source": [
    "Because we want to assign a *category* to each image, we need to transform the output to categorical format"
   ]
  },
  {
   "cell_type": "code",
   "execution_count": 0,
   "metadata": {
    "colab": {
     "autoexec": {
      "startup": false,
      "wait_interval": 0
     }
    },
    "colab_type": "code",
    "collapsed": true,
    "id": "k5wsJEAZgXir"
   },
   "outputs": [],
   "source": [
    "from keras.utils import to_categorical"
   ]
  },
  {
   "cell_type": "code",
   "execution_count": 0,
   "metadata": {
    "colab": {
     "autoexec": {
      "startup": false,
      "wait_interval": 0
     }
    },
    "colab_type": "code",
    "collapsed": true,
    "id": "Coz4fUfqZTel"
   },
   "outputs": [],
   "source": [
    "train_labels_n = to_categorical(train_labels)"
   ]
  },
  {
   "cell_type": "code",
   "execution_count": 20,
   "metadata": {
    "colab": {
     "autoexec": {
      "startup": false,
      "wait_interval": 0
     },
     "base_uri": "https://localhost:8080/",
     "height": 35
    },
    "colab_type": "code",
    "executionInfo": {
     "elapsed": 452,
     "status": "ok",
     "timestamp": 1531566005391,
     "user": {
      "displayName": "Israel Herraiz",
      "photoUrl": "https://lh3.googleusercontent.com/a/default-user=s128",
      "userId": "114232750363927198683"
     },
     "user_tz": -120
    },
    "id": "-EeuEvhMZe2p",
    "outputId": "1b5480bc-04ab-4562-ec20-a2e0a1bac17b"
   },
   "outputs": [
    {
     "data": {
      "text/plain": [
       "7"
      ]
     },
     "execution_count": 20,
     "metadata": {
      "tags": []
     },
     "output_type": "execute_result"
    }
   ],
   "source": [
    "train_labels[2543]"
   ]
  },
  {
   "cell_type": "code",
   "execution_count": 21,
   "metadata": {
    "colab": {
     "autoexec": {
      "startup": false,
      "wait_interval": 0
     },
     "base_uri": "https://localhost:8080/",
     "height": 35
    },
    "colab_type": "code",
    "executionInfo": {
     "elapsed": 417,
     "status": "ok",
     "timestamp": 1531566006024,
     "user": {
      "displayName": "Israel Herraiz",
      "photoUrl": "https://lh3.googleusercontent.com/a/default-user=s128",
      "userId": "114232750363927198683"
     },
     "user_tz": -120
    },
    "id": "OVKxOVrUZgbe",
    "outputId": "c0050f1b-b695-4bc6-a169-66b53d1ad1fd"
   },
   "outputs": [
    {
     "data": {
      "text/plain": [
       "array([0., 0., 0., 0., 0., 0., 0., 1., 0., 0.], dtype=float32)"
      ]
     },
     "execution_count": 21,
     "metadata": {
      "tags": []
     },
     "output_type": "execute_result"
    }
   ],
   "source": [
    "train_labels_n[2543]"
   ]
  },
  {
   "cell_type": "code",
   "execution_count": 0,
   "metadata": {
    "colab": {
     "autoexec": {
      "startup": false,
      "wait_interval": 0
     }
    },
    "colab_type": "code",
    "collapsed": true,
    "id": "3l95T4gnZmfb"
   },
   "outputs": [],
   "source": [
    "test_labels_n = to_categorical(test_labels)"
   ]
  },
  {
   "cell_type": "markdown",
   "metadata": {
    "colab_type": "text",
    "id": "Ii0Gv6xpgXi0"
   },
   "source": [
    "## Let's build the model"
   ]
  },
  {
   "cell_type": "code",
   "execution_count": 0,
   "metadata": {
    "colab": {
     "autoexec": {
      "startup": false,
      "wait_interval": 0
     }
    },
    "colab_type": "code",
    "collapsed": true,
    "id": "tHWNGOqygXi0"
   },
   "outputs": [],
   "source": [
    "from keras import models\n",
    "from keras import layers\n",
    "from keras import metrics"
   ]
  },
  {
   "cell_type": "code",
   "execution_count": 0,
   "metadata": {
    "colab": {
     "autoexec": {
      "startup": false,
      "wait_interval": 0
     }
    },
    "colab_type": "code",
    "collapsed": true,
    "id": "48XmrT0maPmj"
   },
   "outputs": [],
   "source": [
    "m = models.Sequential()\n",
    "m.add(layers.Flatten(input_shape=(28,28)))\n",
    "m.add(layers.Dense(512, activation='relu'))\n",
    "m.add(layers.Dense(256, activation='relu'))\n",
    "m.add(layers.Dense(10, activation='softmax'))"
   ]
  },
  {
   "cell_type": "code",
   "execution_count": 0,
   "metadata": {
    "colab": {
     "autoexec": {
      "startup": false,
      "wait_interval": 0
     }
    },
    "colab_type": "code",
    "collapsed": true,
    "id": "-oovqF-bbYMu"
   },
   "outputs": [],
   "source": [
    "from keras import optimizers\n",
    "from keras import losses"
   ]
  },
  {
   "cell_type": "code",
   "execution_count": 0,
   "metadata": {
    "colab": {
     "autoexec": {
      "startup": false,
      "wait_interval": 0
     }
    },
    "colab_type": "code",
    "collapsed": true,
    "id": "E_KpPZWMbcLy"
   },
   "outputs": [],
   "source": [
    "m.compile(\n",
    "    optimizer=optimizers.rmsprop(), \n",
    "    loss=losses.categorical_crossentropy, \n",
    "    metrics=[metrics.categorical_accuracy]\n",
    ")"
   ]
  },
  {
   "cell_type": "code",
   "execution_count": 27,
   "metadata": {
    "colab": {
     "autoexec": {
      "startup": false,
      "wait_interval": 0
     },
     "base_uri": "https://localhost:8080/",
     "height": 2828
    },
    "colab_type": "code",
    "collapsed": true,
    "executionInfo": {
     "elapsed": 61331,
     "status": "ok",
     "timestamp": 1531566073589,
     "user": {
      "displayName": "Israel Herraiz",
      "photoUrl": "https://lh3.googleusercontent.com/a/default-user=s128",
      "userId": "114232750363927198683"
     },
     "user_tz": -120
    },
    "id": "lSsOWHAqbtud",
    "outputId": "32df101d-16d6-4a75-c7e3-1923e185efa8"
   },
   "outputs": [
    {
     "name": "stdout",
     "output_type": "stream",
     "text": [
      "Train on 48000 samples, validate on 12000 samples\n",
      "Epoch 1/80\n",
      "48000/48000 [==============================] - 2s 42us/step - loss: 0.5716 - categorical_accuracy: 0.8246 - val_loss: 0.2847 - val_categorical_accuracy: 0.9170\n",
      "Epoch 2/80\n",
      "48000/48000 [==============================] - 1s 15us/step - loss: 0.2314 - categorical_accuracy: 0.9299 - val_loss: 0.1714 - val_categorical_accuracy: 0.9491\n",
      "Epoch 3/80\n",
      "48000/48000 [==============================] - 1s 16us/step - loss: 0.1649 - categorical_accuracy: 0.9494 - val_loss: 0.1366 - val_categorical_accuracy: 0.9595\n",
      "Epoch 4/80\n",
      "48000/48000 [==============================] - 1s 16us/step - loss: 0.1159 - categorical_accuracy: 0.9650 - val_loss: 0.1282 - val_categorical_accuracy: 0.9617\n",
      "Epoch 5/80\n",
      "48000/48000 [==============================] - 1s 16us/step - loss: 0.0891 - categorical_accuracy: 0.9731 - val_loss: 0.0930 - val_categorical_accuracy: 0.9727\n",
      "Epoch 6/80\n",
      "48000/48000 [==============================] - 1s 16us/step - loss: 0.0728 - categorical_accuracy: 0.9775 - val_loss: 0.1599 - val_categorical_accuracy: 0.9527\n",
      "Epoch 7/80\n",
      "48000/48000 [==============================] - 1s 15us/step - loss: 0.0579 - categorical_accuracy: 0.9822 - val_loss: 0.0978 - val_categorical_accuracy: 0.9701\n",
      "Epoch 8/80\n",
      "48000/48000 [==============================] - 1s 15us/step - loss: 0.0428 - categorical_accuracy: 0.9869 - val_loss: 0.0793 - val_categorical_accuracy: 0.9765\n",
      "Epoch 9/80\n",
      "41984/48000 [=========================>....] - ETA: 0s - loss: 0.0371 - categorical_accuracy: 0.988348000/48000 [==============================] - 1s 16us/step - loss: 0.0368 - categorical_accuracy: 0.9885 - val_loss: 0.0821 - val_categorical_accuracy: 0.9770\n",
      "Epoch 10/80\n",
      "48000/48000 [==============================] - 1s 16us/step - loss: 0.0271 - categorical_accuracy: 0.9920 - val_loss: 0.1021 - val_categorical_accuracy: 0.9692\n",
      "Epoch 11/80\n",
      "48000/48000 [==============================] - 1s 15us/step - loss: 0.0272 - categorical_accuracy: 0.9924 - val_loss: 0.0749 - val_categorical_accuracy: 0.9785\n",
      "Epoch 12/80\n",
      "48000/48000 [==============================] - 1s 16us/step - loss: 0.0175 - categorical_accuracy: 0.9954 - val_loss: 0.0804 - val_categorical_accuracy: 0.9780\n",
      "Epoch 13/80\n",
      "48000/48000 [==============================] - 1s 16us/step - loss: 0.0210 - categorical_accuracy: 0.9936 - val_loss: 0.0776 - val_categorical_accuracy: 0.9787\n",
      "Epoch 14/80\n",
      "48000/48000 [==============================] - 1s 16us/step - loss: 0.0110 - categorical_accuracy: 0.9971 - val_loss: 0.0765 - val_categorical_accuracy: 0.9800\n",
      "Epoch 15/80\n",
      "48000/48000 [==============================] - 1s 16us/step - loss: 0.0143 - categorical_accuracy: 0.9957 - val_loss: 0.1082 - val_categorical_accuracy: 0.9748\n",
      "Epoch 16/80\n",
      "48000/48000 [==============================] - 1s 16us/step - loss: 0.0083 - categorical_accuracy: 0.9975 - val_loss: 0.0948 - val_categorical_accuracy: 0.9750\n",
      "Epoch 17/80\n",
      "48000/48000 [==============================] - 1s 16us/step - loss: 0.0120 - categorical_accuracy: 0.9970 - val_loss: 0.0765 - val_categorical_accuracy: 0.9802\n",
      "Epoch 18/80\n",
      " 5120/48000 [==>...........................] - ETA: 0s - loss: 0.0018 - categorical_accuracy: 1.000048000/48000 [==============================] - 1s 15us/step - loss: 0.0083 - categorical_accuracy: 0.9978 - val_loss: 0.0958 - val_categorical_accuracy: 0.9760\n",
      "Epoch 19/80\n",
      "48000/48000 [==============================] - 1s 15us/step - loss: 0.0075 - categorical_accuracy: 0.9977 - val_loss: 0.0844 - val_categorical_accuracy: 0.9804\n",
      "Epoch 20/80\n",
      "48000/48000 [==============================] - 1s 16us/step - loss: 0.0079 - categorical_accuracy: 0.9977 - val_loss: 0.0878 - val_categorical_accuracy: 0.9804\n",
      "Epoch 21/80\n",
      "48000/48000 [==============================] - 1s 16us/step - loss: 0.0063 - categorical_accuracy: 0.9983 - val_loss: 0.0825 - val_categorical_accuracy: 0.9807\n",
      "Epoch 22/80\n",
      "48000/48000 [==============================] - 1s 15us/step - loss: 0.0091 - categorical_accuracy: 0.9979 - val_loss: 0.0840 - val_categorical_accuracy: 0.9799\n",
      "Epoch 23/80\n",
      "48000/48000 [==============================] - 1s 16us/step - loss: 0.0025 - categorical_accuracy: 0.9993 - val_loss: 0.1359 - val_categorical_accuracy: 0.9718\n",
      "Epoch 24/80\n",
      "48000/48000 [==============================] - 1s 15us/step - loss: 0.0086 - categorical_accuracy: 0.9977 - val_loss: 0.0981 - val_categorical_accuracy: 0.9786\n",
      "Epoch 25/80\n",
      "48000/48000 [==============================] - 1s 15us/step - loss: 0.0080 - categorical_accuracy: 0.9978 - val_loss: 0.0901 - val_categorical_accuracy: 0.9807\n",
      "Epoch 26/80\n",
      "48000/48000 [==============================] - 1s 15us/step - loss: 0.0026 - categorical_accuracy: 0.9992 - val_loss: 0.0927 - val_categorical_accuracy: 0.9805\n",
      "Epoch 27/80\n",
      " 9216/48000 [====>.........................] - ETA: 0s - loss: 3.8954e-04 - categorical_accuracy: 1.000048000/48000 [==============================] - 1s 15us/step - loss: 0.0028 - categorical_accuracy: 0.9992 - val_loss: 0.0960 - val_categorical_accuracy: 0.9806\n",
      "Epoch 28/80\n",
      "48000/48000 [==============================] - 1s 15us/step - loss: 0.0055 - categorical_accuracy: 0.9986 - val_loss: 0.0990 - val_categorical_accuracy: 0.9806\n",
      "Epoch 29/80\n",
      "48000/48000 [==============================] - 1s 16us/step - loss: 0.0061 - categorical_accuracy: 0.9985 - val_loss: 0.0974 - val_categorical_accuracy: 0.9808\n",
      "Epoch 30/80\n",
      "48000/48000 [==============================] - 1s 15us/step - loss: 0.0047 - categorical_accuracy: 0.9991 - val_loss: 0.0985 - val_categorical_accuracy: 0.9811\n",
      "Epoch 31/80\n",
      "48000/48000 [==============================] - 1s 15us/step - loss: 0.0035 - categorical_accuracy: 0.9991 - val_loss: 0.1003 - val_categorical_accuracy: 0.9810\n",
      "Epoch 32/80\n",
      "48000/48000 [==============================] - 1s 16us/step - loss: 0.0027 - categorical_accuracy: 0.9993 - val_loss: 0.1030 - val_categorical_accuracy: 0.9813\n",
      "Epoch 33/80\n",
      "48000/48000 [==============================] - 1s 15us/step - loss: 0.0058 - categorical_accuracy: 0.9982 - val_loss: 0.1098 - val_categorical_accuracy: 0.9808\n",
      "Epoch 34/80\n",
      "48000/48000 [==============================] - 1s 15us/step - loss: 2.2910e-04 - categorical_accuracy: 1.0000 - val_loss: 0.1054 - val_categorical_accuracy: 0.9813\n",
      "Epoch 35/80\n",
      "48000/48000 [==============================] - 1s 16us/step - loss: 0.0040 - categorical_accuracy: 0.9989 - val_loss: 0.1518 - val_categorical_accuracy: 0.9736\n",
      "Epoch 36/80\n",
      " 9216/48000 [====>.........................] - ETA: 0s - loss: 0.0018 - categorical_accuracy: 0.999648000/48000 [==============================] - 1s 16us/step - loss: 0.0012 - categorical_accuracy: 0.9997 - val_loss: 0.1187 - val_categorical_accuracy: 0.9793\n",
      "Epoch 37/80\n",
      "48000/48000 [==============================] - 1s 15us/step - loss: 0.0021 - categorical_accuracy: 0.9994 - val_loss: 0.1132 - val_categorical_accuracy: 0.9797\n",
      "Epoch 38/80\n",
      "48000/48000 [==============================] - 1s 15us/step - loss: 0.0100 - categorical_accuracy: 0.9980 - val_loss: 0.1118 - val_categorical_accuracy: 0.9808\n",
      "Epoch 39/80\n",
      "48000/48000 [==============================] - 1s 15us/step - loss: 1.4121e-04 - categorical_accuracy: 1.0000 - val_loss: 0.1160 - val_categorical_accuracy: 0.9802\n",
      "Epoch 40/80\n",
      "48000/48000 [==============================] - 1s 16us/step - loss: 0.0031 - categorical_accuracy: 0.9994 - val_loss: 0.1145 - val_categorical_accuracy: 0.9802\n",
      "Epoch 41/80\n",
      "48000/48000 [==============================] - 1s 15us/step - loss: 6.9644e-04 - categorical_accuracy: 0.9998 - val_loss: 0.1281 - val_categorical_accuracy: 0.9794\n",
      "Epoch 42/80\n",
      "48000/48000 [==============================] - 1s 15us/step - loss: 0.0055 - categorical_accuracy: 0.9988 - val_loss: 0.1190 - val_categorical_accuracy: 0.9801\n",
      "Epoch 43/80\n",
      "48000/48000 [==============================] - 1s 15us/step - loss: 5.3689e-04 - categorical_accuracy: 0.9999 - val_loss: 0.2418 - val_categorical_accuracy: 0.9596\n",
      "Epoch 44/80\n",
      "48000/48000 [==============================] - 1s 15us/step - loss: 0.0040 - categorical_accuracy: 0.9991 - val_loss: 0.1142 - val_categorical_accuracy: 0.9811\n",
      "Epoch 45/80\n",
      " 9216/48000 [====>.........................] - ETA: 0s - loss: 3.6618e-05 - categorical_accuracy: 1.000048000/48000 [==============================] - 1s 15us/step - loss: 0.0031 - categorical_accuracy: 0.9993 - val_loss: 0.1147 - val_categorical_accuracy: 0.9813\n",
      "Epoch 46/80\n",
      "48000/48000 [==============================] - 1s 15us/step - loss: 0.0035 - categorical_accuracy: 0.9991 - val_loss: 0.1197 - val_categorical_accuracy: 0.9802\n",
      "Epoch 47/80\n",
      "48000/48000 [==============================] - 1s 15us/step - loss: 7.2679e-05 - categorical_accuracy: 1.0000 - val_loss: 0.1142 - val_categorical_accuracy: 0.9819\n",
      "Epoch 48/80\n",
      "48000/48000 [==============================] - 1s 16us/step - loss: 0.0074 - categorical_accuracy: 0.9983 - val_loss: 0.1141 - val_categorical_accuracy: 0.9819\n",
      "Epoch 49/80\n",
      "48000/48000 [==============================] - 1s 15us/step - loss: 3.1612e-05 - categorical_accuracy: 1.0000 - val_loss: 0.1122 - val_categorical_accuracy: 0.9818\n",
      "Epoch 50/80\n",
      "48000/48000 [==============================] - 1s 15us/step - loss: 0.0025 - categorical_accuracy: 0.9993 - val_loss: 0.1209 - val_categorical_accuracy: 0.9803\n",
      "Epoch 51/80\n",
      "48000/48000 [==============================] - 1s 15us/step - loss: 8.3318e-05 - categorical_accuracy: 1.0000 - val_loss: 0.1295 - val_categorical_accuracy: 0.9801\n",
      "Epoch 52/80\n",
      "48000/48000 [==============================] - 1s 16us/step - loss: 0.0037 - categorical_accuracy: 0.9992 - val_loss: 0.1212 - val_categorical_accuracy: 0.9808\n",
      "Epoch 53/80\n",
      "48000/48000 [==============================] - 1s 16us/step - loss: 1.5770e-05 - categorical_accuracy: 1.0000 - val_loss: 0.1262 - val_categorical_accuracy: 0.9808\n",
      "Epoch 54/80\n"
     ]
    },
    {
     "name": "stdout",
     "output_type": "stream",
     "text": [
      " 5120/48000 [==>...........................] - ETA: 0s - loss: 0.0023 - categorical_accuracy: 0.9998    48000/48000 [==============================] - 1s 16us/step - loss: 0.0079 - categorical_accuracy: 0.9987 - val_loss: 0.1244 - val_categorical_accuracy: 0.9814\n",
      "Epoch 55/80\n",
      "48000/48000 [==============================] - 1s 15us/step - loss: 0.0020 - categorical_accuracy: 0.9994 - val_loss: 0.2106 - val_categorical_accuracy: 0.9724\n",
      "Epoch 56/80\n",
      "48000/48000 [==============================] - 1s 15us/step - loss: 0.0010 - categorical_accuracy: 0.9996 - val_loss: 0.1291 - val_categorical_accuracy: 0.9807\n",
      "Epoch 57/80\n",
      "48000/48000 [==============================] - 1s 15us/step - loss: 0.0035 - categorical_accuracy: 0.9994 - val_loss: 0.2146 - val_categorical_accuracy: 0.9693\n",
      "Epoch 58/80\n",
      "48000/48000 [==============================] - 1s 15us/step - loss: 0.0012 - categorical_accuracy: 0.9997 - val_loss: 0.1242 - val_categorical_accuracy: 0.9812\n",
      "Epoch 59/80\n",
      "48000/48000 [==============================] - 1s 15us/step - loss: 8.2048e-06 - categorical_accuracy: 1.0000 - val_loss: 0.1230 - val_categorical_accuracy: 0.9820\n",
      "Epoch 60/80\n",
      "48000/48000 [==============================] - 1s 15us/step - loss: 0.0023 - categorical_accuracy: 0.9995 - val_loss: 0.1287 - val_categorical_accuracy: 0.9821\n",
      "Epoch 61/80\n",
      "48000/48000 [==============================] - 1s 15us/step - loss: 3.9331e-04 - categorical_accuracy: 0.9999 - val_loss: 0.1310 - val_categorical_accuracy: 0.9817\n",
      "Epoch 62/80\n",
      "48000/48000 [==============================] - 1s 15us/step - loss: 0.0026 - categorical_accuracy: 0.9995 - val_loss: 0.1304 - val_categorical_accuracy: 0.9804\n",
      "Epoch 63/80\n",
      " 9216/48000 [====>.........................] - ETA: 0s - loss: 1.6768e-04 - categorical_accuracy: 0.999948000/48000 [==============================] - 1s 15us/step - loss: 0.0018 - categorical_accuracy: 0.9996 - val_loss: 0.1298 - val_categorical_accuracy: 0.9818\n",
      "Epoch 64/80\n",
      "48000/48000 [==============================] - 1s 16us/step - loss: 6.9715e-04 - categorical_accuracy: 0.9999 - val_loss: 0.1255 - val_categorical_accuracy: 0.9821\n",
      "Epoch 65/80\n",
      "48000/48000 [==============================] - 1s 15us/step - loss: 7.9161e-04 - categorical_accuracy: 0.9999 - val_loss: 0.1363 - val_categorical_accuracy: 0.9813\n",
      "Epoch 66/80\n",
      "48000/48000 [==============================] - 1s 15us/step - loss: 0.0030 - categorical_accuracy: 0.9992 - val_loss: 0.1442 - val_categorical_accuracy: 0.9789\n",
      "Epoch 67/80\n",
      "48000/48000 [==============================] - 1s 15us/step - loss: 2.7092e-05 - categorical_accuracy: 1.0000 - val_loss: 0.1309 - val_categorical_accuracy: 0.9813\n",
      "Epoch 68/80\n",
      "48000/48000 [==============================] - 1s 15us/step - loss: 0.0030 - categorical_accuracy: 0.9994 - val_loss: 0.1356 - val_categorical_accuracy: 0.9802\n",
      "Epoch 69/80\n",
      "48000/48000 [==============================] - 1s 15us/step - loss: 0.0021 - categorical_accuracy: 0.9997 - val_loss: 0.1399 - val_categorical_accuracy: 0.9811\n",
      "Epoch 70/80\n",
      "48000/48000 [==============================] - 1s 15us/step - loss: 3.9963e-05 - categorical_accuracy: 1.0000 - val_loss: 0.1458 - val_categorical_accuracy: 0.9792\n",
      "Epoch 71/80\n",
      "48000/48000 [==============================] - 1s 15us/step - loss: 0.0025 - categorical_accuracy: 0.9993 - val_loss: 0.1354 - val_categorical_accuracy: 0.9808\n",
      "Epoch 72/80\n",
      " 9216/48000 [====>.........................] - ETA: 0s - loss: 1.2135e-05 - categorical_accuracy: 1.000048000/48000 [==============================] - 1s 15us/step - loss: 1.1468e-05 - categorical_accuracy: 1.0000 - val_loss: 0.1323 - val_categorical_accuracy: 0.9819\n",
      "Epoch 73/80\n",
      "48000/48000 [==============================] - 1s 16us/step - loss: 2.3479e-06 - categorical_accuracy: 1.0000 - val_loss: 0.1337 - val_categorical_accuracy: 0.9824\n",
      "Epoch 74/80\n",
      "48000/48000 [==============================] - 1s 15us/step - loss: 0.0038 - categorical_accuracy: 0.9992 - val_loss: 0.1429 - val_categorical_accuracy: 0.9808\n",
      "Epoch 75/80\n",
      "48000/48000 [==============================] - 1s 15us/step - loss: 2.1466e-04 - categorical_accuracy: 0.9999 - val_loss: 0.1380 - val_categorical_accuracy: 0.9818\n",
      "Epoch 76/80\n",
      "48000/48000 [==============================] - 1s 15us/step - loss: 0.0027 - categorical_accuracy: 0.9994 - val_loss: 0.1381 - val_categorical_accuracy: 0.9818\n",
      "Epoch 77/80\n",
      "48000/48000 [==============================] - 1s 15us/step - loss: 7.2942e-06 - categorical_accuracy: 1.0000 - val_loss: 0.1374 - val_categorical_accuracy: 0.9821\n",
      "Epoch 78/80\n",
      "48000/48000 [==============================] - 1s 16us/step - loss: 1.9291e-05 - categorical_accuracy: 1.0000 - val_loss: 0.1439 - val_categorical_accuracy: 0.9808\n",
      "Epoch 79/80\n",
      "48000/48000 [==============================] - 1s 15us/step - loss: 0.0044 - categorical_accuracy: 0.9991 - val_loss: 0.1493 - val_categorical_accuracy: 0.9805\n",
      "Epoch 80/80\n",
      "48000/48000 [==============================] - 1s 15us/step - loss: 9.3907e-06 - categorical_accuracy: 1.0000 - val_loss: 0.1466 - val_categorical_accuracy: 0.9814\n"
     ]
    }
   ],
   "source": [
    "h = m.fit(train_imgs_n, train_labels_n, epochs=80, batch_size=1024, validation_split=0.2)"
   ]
  },
  {
   "cell_type": "code",
   "execution_count": 28,
   "metadata": {
    "colab": {
     "autoexec": {
      "startup": false,
      "wait_interval": 0
     },
     "base_uri": "https://localhost:8080/",
     "height": 477
    },
    "colab_type": "code",
    "executionInfo": {
     "elapsed": 1351,
     "status": "ok",
     "timestamp": 1531566104550,
     "user": {
      "displayName": "Israel Herraiz",
      "photoUrl": "https://lh3.googleusercontent.com/a/default-user=s128",
      "userId": "114232750363927198683"
     },
     "user_tz": -120
    },
    "id": "rQ_TIwvpc_oA",
    "outputId": "0afe1dbc-aee5-416f-b454-81d4b374208a"
   },
   "outputs": [
    {
     "data": {
      "image/png": "[encoded data removed]",
      "text/plain": [
       "<matplotlib.figure.Figure at 0x7f6a29576240>"
      ]
     },
     "metadata": {
      "tags": []
     },
     "output_type": "display_data"
    }
   ],
   "source": [
    "plot_metric(h, 'loss')"
   ]
  },
  {
   "cell_type": "code",
   "execution_count": 29,
   "metadata": {
    "colab": {
     "autoexec": {
      "startup": false,
      "wait_interval": 0
     },
     "base_uri": "https://localhost:8080/",
     "height": 477
    },
    "colab_type": "code",
    "executionInfo": {
     "elapsed": 950,
     "status": "ok",
     "timestamp": 1531566194673,
     "user": {
      "displayName": "Israel Herraiz",
      "photoUrl": "https://lh3.googleusercontent.com/a/default-user=s128",
      "userId": "114232750363927198683"
     },
     "user_tz": -120
    },
    "id": "BBM60CoAdVGm",
    "outputId": "e87e4739-11e4-416e-a7e6-36edf6f01c2c"
   },
   "outputs": [
    {
     "data": {
      "image/png": "[encoded data removed]",
      "text/plain": [
       "<matplotlib.figure.Figure at 0x7f6a22725198>"
      ]
     },
     "metadata": {
      "tags": []
     },
     "output_type": "display_data"
    }
   ],
   "source": [
    "plot_metric(h, 'categorical_accuracy')"
   ]
  },
  {
   "cell_type": "markdown",
   "metadata": {
    "colab_type": "text",
    "id": "yCYxDl6TgXi3"
   },
   "source": [
    "Here we will make some decisions about how to train our model.\n",
    "\n",
    "The **objective function**, called **loss function** in Deep Learning, will be *categorical crossentropy*. This is because we are trying to predict discrete classes. If we choose a different function, the solution will be different. This is the function that will tell us when we have found the *solution*. Different functions will point to different *solutions*.\n",
    "\n",
    "The **optimizer** is the method that we will use to find the minimum of the **loss function**. In general, we will not find the global minimum of the loss function, but a minimum that is good enough. *RMSProp* is one the variants of gradient descent. But there are many more:\n",
    " - http://ruder.io/optimizing-gradient-descent/\n",
    " \n",
    "These two settings will define what solution we will find during the training process.\n",
    "\n",
    "The other parameter, the **metrics**, is only for information purposes. In each step of the training (called **epoch**), Keras will report the value of the metrics. But whether we choose one metric or another will not influence the training process. It is only for reporting how the training is going. That information will be useful for the validation of the model, that is, for the **hyperparameters tuning**.\n"
   ]
  },
  {
   "cell_type": "markdown",
   "metadata": {
    "colab_type": "text",
    "id": "kESfQm81gXi3"
   },
   "source": [
    "Now let's fit the neural network. We will keep the results in a *history* object to plot some parameters after the training, and use that information for improving our model (changing layers, activation functions, etc). This process is called **hyperparameters tuning** or hypeparameters search.\n",
    "\n",
    "Here we need to set two parameters: the number of **epochs** and the **batch size**.\n",
    "\n",
    "In previous cells, I have said that the training process is an optimization problem: we try to find the minimum.\n",
    "\n",
    "That's actually not entirely true. In practice, we don't keep searching for a minimum. Instead, we train for a preset number of epochs. Then we analyze the output using the validation set. If we detect overfit, then we reduce the number of epochs. If we don't detect it, then maybe we can keep going for some more epochs to find a better model. The number of epochs is another hyperparameter. In general, we should stop the training as early as possible. Any further epoch can make our model overfit, and therefore generalize poorly.\n",
    "\n",
    "The batch size is another hyperparameter. The network is not updated item by item, vector by vector. We can actually calculate the weights for a batch of several items, forming a matrix or a tensor. The batch size will affect the granularity of the calculations and the performance. A larger batch size will probably result in a slightly worse accuracy, but in a better performance. As long as the batch size is not so huge that it cannot be kept in memory. Because we are running on a GPU, it is a good idea to use a power of 2 for the batch size. It will probably make a better use of the GPU. But again, the effect of the batch size must be tested using the validation set, and adjusted until we find a good value for that parameter.\n",
    "\n",
    "An epoch is a full pass over the training dataset. At the end of each epoch, Keras will calculate the value of the metrics for the training set, and the loss function and metrics for the validation set. The loss and metrics of the validation set are useful for the hyperparameters tuning process.\n",
    "\n"
   ]
  },
  {
   "cell_type": "code",
   "execution_count": 0,
   "metadata": {
    "colab": {
     "autoexec": {
      "startup": false,
      "wait_interval": 0
     }
    },
    "colab_type": "code",
    "collapsed": true,
    "id": "89jKeob3gXi4"
   },
   "outputs": [],
   "source": []
  },
  {
   "cell_type": "markdown",
   "metadata": {
    "colab_type": "text",
    "id": "6rjrAUKwgXi6"
   },
   "source": [
    "## Exercises\n",
    "\n",
    "* **EXERCISE 1**: Chante the activation function in the model. How does it affect accuracy? What happens if you use linear activation function? What happens if we use the $\\tanh$ function? Does it affect to overfitting?\n",
    " * https://keras.io/activations/\n",
    " \n",
    "Here we see that the accuracy keeps increasing over epochs. An overfitted model would produce a decrease of the validation accuracy at some point. This means that we have found an optimal model. The validation loss is stuck at a minimum, but the accuracy is not affected by the extra epochs.\n",
    "\n",
    "_**EXERCISE 2**_: How is the model accuracy (measured with the test set, see below) affected if we start over and fit for 40 epochs? And for 4? And for 400?\n",
    "\n",
    "_**EXERCISE 4**_: What is the most simple model that you can get that achieves a similar validation performance (accuracy)? (the loss values are not comparable, different networks will have different ranges of values for the loss functions)\n",
    "\n",
    "Now let's check how well the model works with the test dataset. Remember that we don't have used it at all during the training and tuning of the model."
   ]
  },
  {
   "cell_type": "markdown",
   "metadata": {
    "colab_type": "text",
    "id": "s7UGQzFugXi6"
   },
   "source": [
    "## Analyze the classification performance"
   ]
  },
  {
   "cell_type": "code",
   "execution_count": 30,
   "metadata": {
    "colab": {
     "autoexec": {
      "startup": false,
      "wait_interval": 0
     },
     "base_uri": "https://localhost:8080/",
     "height": 52
    },
    "colab_type": "code",
    "executionInfo": {
     "elapsed": 1524,
     "status": "ok",
     "timestamp": 1531566384580,
     "user": {
      "displayName": "Israel Herraiz",
      "photoUrl": "https://lh3.googleusercontent.com/a/default-user=s128",
      "userId": "114232750363927198683"
     },
     "user_tz": -120
    },
    "id": "kAaYzgUHgXi7",
    "outputId": "c71f5de9-7635-46cb-fa01-174ae229001a"
   },
   "outputs": [
    {
     "name": "stdout",
     "output_type": "stream",
     "text": [
      "10000/10000 [==============================] - 1s 109us/step\n"
     ]
    },
    {
     "data": {
      "text/plain": [
       "(0.1185379950209732, 0.9838)"
      ]
     },
     "execution_count": 30,
     "metadata": {
      "tags": []
     },
     "output_type": "execute_result"
    }
   ],
   "source": [
    "loss, acc = m.evaluate(test_imgs_n, test_labels_n)\n",
    "loss, acc"
   ]
  },
  {
   "cell_type": "markdown",
   "metadata": {
    "colab_type": "text",
    "id": "phELSUGlgXi9"
   },
   "source": [
    "That's about a $98\\%$ accuracy on the test set. Not bad.\n",
    "\n",
    "With that accuracy, this is the number of images that are wrongly classified by our model:"
   ]
  },
  {
   "cell_type": "code",
   "execution_count": 31,
   "metadata": {
    "colab": {
     "autoexec": {
      "startup": false,
      "wait_interval": 0
     },
     "base_uri": "https://localhost:8080/",
     "height": 35
    },
    "colab_type": "code",
    "executionInfo": {
     "elapsed": 567,
     "status": "ok",
     "timestamp": 1531566433739,
     "user": {
      "displayName": "Israel Herraiz",
      "photoUrl": "https://lh3.googleusercontent.com/a/default-user=s128",
      "userId": "114232750363927198683"
     },
     "user_tz": -120
    },
    "id": "kl5XrBDMgXi9",
    "outputId": "43407ee0-c194-4d59-ec06-1abe5bb9410c"
   },
   "outputs": [
    {
     "data": {
      "text/plain": [
       "161.99999999999991"
      ]
     },
     "execution_count": 31,
     "metadata": {
      "tags": []
     },
     "output_type": "execute_result"
    }
   ],
   "source": [
    "(1-acc)*len(test_labels)"
   ]
  },
  {
   "cell_type": "markdown",
   "metadata": {
    "colab_type": "text",
    "id": "K1LaUlmBgXi_"
   },
   "source": [
    "Let's see how well it predicts some random items from the test set."
   ]
  },
  {
   "cell_type": "code",
   "execution_count": 32,
   "metadata": {
    "colab": {
     "autoexec": {
      "startup": false,
      "wait_interval": 0
     },
     "base_uri": "https://localhost:8080/",
     "height": 459
    },
    "colab_type": "code",
    "executionInfo": {
     "elapsed": 610,
     "status": "ok",
     "timestamp": 1531566587803,
     "user": {
      "displayName": "Israel Herraiz",
      "photoUrl": "https://lh3.googleusercontent.com/a/default-user=s128",
      "userId": "114232750363927198683"
     },
     "user_tz": -120
    },
    "id": "b85oTRkVgXi_",
    "outputId": "6f4b30ec-4f90-49af-aeb8-6c3cdd2623ad"
   },
   "outputs": [
    {
     "name": "stdout",
     "output_type": "stream",
     "text": [
      "The image below should show the number 8\n"
     ]
    },
    {
     "data": {
      "image/png": "[encoded data removed]",
      "text/plain": [
       "<matplotlib.figure.Figure at 0x7f6a2250c748>"
      ]
     },
     "metadata": {
      "tags": []
     },
     "output_type": "display_data"
    }
   ],
   "source": [
    "plot_mnist_image(2543, test_imgs, test_labels)"
   ]
  },
  {
   "cell_type": "markdown",
   "metadata": {
    "colab_type": "text",
    "id": "P7x9RF5cgXjB"
   },
   "source": [
    "The prediction is a 10-element vector (*1-HOT encoded vector*), with the probability of each class. The location of the max is giving us the predicted class."
   ]
  },
  {
   "cell_type": "code",
   "execution_count": 36,
   "metadata": {
    "colab": {
     "autoexec": {
      "startup": false,
      "wait_interval": 0
     },
     "base_uri": "https://localhost:8080/",
     "height": 69
    },
    "colab_type": "code",
    "executionInfo": {
     "elapsed": 486,
     "status": "ok",
     "timestamp": 1531566686050,
     "user": {
      "displayName": "Israel Herraiz",
      "photoUrl": "https://lh3.googleusercontent.com/a/default-user=s128",
      "userId": "114232750363927198683"
     },
     "user_tz": -120
    },
    "id": "rn0vgxxOgXjB",
    "outputId": "e31647cf-de58-4b3b-e8c9-c339354fa0cb"
   },
   "outputs": [
    {
     "data": {
      "text/plain": [
       "array([[4.9251538e-17, 6.4371702e-19, 1.1058291e-19, 9.6750701e-18,\n",
       "        2.8538185e-27, 2.0412794e-16, 2.8993466e-19, 1.8741576e-21,\n",
       "        1.0000000e+00, 6.6598432e-21]], dtype=float32)"
      ]
     },
     "execution_count": 36,
     "metadata": {
      "tags": []
     },
     "output_type": "execute_result"
    }
   ],
   "source": [
    "m.predict(test_imgs_n[2543:2544,])"
   ]
  },
  {
   "cell_type": "code",
   "execution_count": 37,
   "metadata": {
    "colab": {
     "autoexec": {
      "startup": false,
      "wait_interval": 0
     },
     "base_uri": "https://localhost:8080/",
     "height": 35
    },
    "colab_type": "code",
    "executionInfo": {
     "elapsed": 442,
     "status": "ok",
     "timestamp": 1531566723534,
     "user": {
      "displayName": "Israel Herraiz",
      "photoUrl": "https://lh3.googleusercontent.com/a/default-user=s128",
      "userId": "114232750363927198683"
     },
     "user_tz": -120
    },
    "id": "Vv9k5aQMfWCk",
    "outputId": "3f87077c-2bd2-4ae5-e471-0004ac4052ff"
   },
   "outputs": [
    {
     "data": {
      "text/plain": [
       "8"
      ]
     },
     "execution_count": 37,
     "metadata": {
      "tags": []
     },
     "output_type": "execute_result"
    }
   ],
   "source": [
    "np.argmax(m.predict(test_imgs_n[2543:2544,]))"
   ]
  },
  {
   "cell_type": "markdown",
   "metadata": {
    "colab_type": "text",
    "id": "MUsQP7P3gXjD"
   },
   "source": [
    "YES! Our model predicts 8\n",
    "\n",
    "_**EXERCISE 5**_: Can you find a test item that is predicted wrongly? How many images are predicted wrongly? Can you find all the items that are wrongly classified? For instance, the test element with index 3943 is a 3 but we predict a 5\n"
   ]
  },
  {
   "cell_type": "code",
   "execution_count": 38,
   "metadata": {
    "colab": {
     "autoexec": {
      "startup": false,
      "wait_interval": 0
     },
     "base_uri": "https://localhost:8080/",
     "height": 459
    },
    "colab_type": "code",
    "executionInfo": {
     "elapsed": 461,
     "status": "ok",
     "timestamp": 1531566789855,
     "user": {
      "displayName": "Israel Herraiz",
      "photoUrl": "https://lh3.googleusercontent.com/a/default-user=s128",
      "userId": "114232750363927198683"
     },
     "user_tz": -120
    },
    "id": "YRUZOSzqgXjD",
    "outputId": "d96016d9-95e2-454d-abc8-1eca8dc61b96"
   },
   "outputs": [
    {
     "name": "stdout",
     "output_type": "stream",
     "text": [
      "The image below should show the number 3\n"
     ]
    },
    {
     "data": {
      "image/png": "[encoded data removed]",
      "text/plain": [
       "<matplotlib.figure.Figure at 0x7f6a223f2828>"
      ]
     },
     "metadata": {
      "tags": []
     },
     "output_type": "display_data"
    }
   ],
   "source": [
    "plot_mnist_image(3943, test_imgs, test_labels)"
   ]
  },
  {
   "cell_type": "code",
   "execution_count": 40,
   "metadata": {
    "colab": {
     "autoexec": {
      "startup": false,
      "wait_interval": 0
     },
     "base_uri": "https://localhost:8080/",
     "height": 35
    },
    "colab_type": "code",
    "executionInfo": {
     "elapsed": 427,
     "status": "ok",
     "timestamp": 1531566815395,
     "user": {
      "displayName": "Israel Herraiz",
      "photoUrl": "https://lh3.googleusercontent.com/a/default-user=s128",
      "userId": "114232750363927198683"
     },
     "user_tz": -120
    },
    "id": "XEcr5vlRgXjF",
    "outputId": "1642617c-486b-4270-d683-099913da9ddc"
   },
   "outputs": [
    {
     "data": {
      "text/plain": [
       "5"
      ]
     },
     "execution_count": 40,
     "metadata": {
      "tags": []
     },
     "output_type": "execute_result"
    }
   ],
   "source": [
    "np.argmax(m.predict(test_imgs_n[3943:3944,]))"
   ]
  },
  {
   "cell_type": "code",
   "execution_count": 0,
   "metadata": {
    "colab": {
     "autoexec": {
      "startup": false,
      "wait_interval": 0
     }
    },
    "colab_type": "code",
    "collapsed": true,
    "id": "P0zturDHgXjI"
   },
   "outputs": [],
   "source": [
    "preds_vecs = m.predict(test_imgs_n)"
   ]
  },
  {
   "cell_type": "code",
   "execution_count": 42,
   "metadata": {
    "colab": {
     "autoexec": {
      "startup": false,
      "wait_interval": 0
     },
     "base_uri": "https://localhost:8080/",
     "height": 35
    },
    "colab_type": "code",
    "executionInfo": {
     "elapsed": 444,
     "status": "ok",
     "timestamp": 1531566912762,
     "user": {
      "displayName": "Israel Herraiz",
      "photoUrl": "https://lh3.googleusercontent.com/a/default-user=s128",
      "userId": "114232750363927198683"
     },
     "user_tz": -120
    },
    "id": "01CiVwDogDe0",
    "outputId": "82d259da-2b76-4c52-9d98-64a50ebc9189"
   },
   "outputs": [
    {
     "data": {
      "text/plain": [
       "(10000, 10)"
      ]
     },
     "execution_count": 42,
     "metadata": {
      "tags": []
     },
     "output_type": "execute_result"
    }
   ],
   "source": [
    "preds_vecs.shape"
   ]
  },
  {
   "cell_type": "code",
   "execution_count": 0,
   "metadata": {
    "colab": {
     "autoexec": {
      "startup": false,
      "wait_interval": 0
     }
    },
    "colab_type": "code",
    "collapsed": true,
    "id": "qhupihghgirU"
   },
   "outputs": [],
   "source": [
    "pred_labels = preds_vecs.argmax(axis=1)"
   ]
  },
  {
   "cell_type": "code",
   "execution_count": 44,
   "metadata": {
    "colab": {
     "autoexec": {
      "startup": false,
      "wait_interval": 0
     },
     "base_uri": "https://localhost:8080/",
     "height": 35
    },
    "colab_type": "code",
    "executionInfo": {
     "elapsed": 464,
     "status": "ok",
     "timestamp": 1531567068733,
     "user": {
      "displayName": "Israel Herraiz",
      "photoUrl": "https://lh3.googleusercontent.com/a/default-user=s128",
      "userId": "114232750363927198683"
     },
     "user_tz": -120
    },
    "id": "EsMZO2srgrck",
    "outputId": "8c88a247-219b-4de9-b756-f0ceb7eba344"
   },
   "outputs": [
    {
     "data": {
      "text/plain": [
       "(10000,)"
      ]
     },
     "execution_count": 44,
     "metadata": {
      "tags": []
     },
     "output_type": "execute_result"
    }
   ],
   "source": [
    "pred_labels.shape"
   ]
  },
  {
   "cell_type": "code",
   "execution_count": 45,
   "metadata": {
    "colab": {
     "autoexec": {
      "startup": false,
      "wait_interval": 0
     },
     "base_uri": "https://localhost:8080/",
     "height": 35
    },
    "colab_type": "code",
    "executionInfo": {
     "elapsed": 488,
     "status": "ok",
     "timestamp": 1531567080399,
     "user": {
      "displayName": "Israel Herraiz",
      "photoUrl": "https://lh3.googleusercontent.com/a/default-user=s128",
      "userId": "114232750363927198683"
     },
     "user_tz": -120
    },
    "id": "xHIvim87guGv",
    "outputId": "5d209bdf-f76b-45ff-df14-318c2ffcc8d0"
   },
   "outputs": [
    {
     "data": {
      "text/plain": [
       "array([9, 6, 6, 5, 4, 0, 7, 4, 0, 1])"
      ]
     },
     "execution_count": 45,
     "metadata": {
      "tags": []
     },
     "output_type": "execute_result"
    }
   ],
   "source": [
    "pred_labels[20:30]"
   ]
  },
  {
   "cell_type": "code",
   "execution_count": 46,
   "metadata": {
    "colab": {
     "autoexec": {
      "startup": false,
      "wait_interval": 0
     },
     "base_uri": "https://localhost:8080/",
     "height": 35
    },
    "colab_type": "code",
    "executionInfo": {
     "elapsed": 585,
     "status": "ok",
     "timestamp": 1531567098929,
     "user": {
      "displayName": "Israel Herraiz",
      "photoUrl": "https://lh3.googleusercontent.com/a/default-user=s128",
      "userId": "114232750363927198683"
     },
     "user_tz": -120
    },
    "id": "rXGrUMl2gwzo",
    "outputId": "213612ce-e88b-42ac-c821-947e3d5e37a8"
   },
   "outputs": [
    {
     "data": {
      "text/plain": [
       "(9, 0)"
      ]
     },
     "execution_count": 46,
     "metadata": {
      "tags": []
     },
     "output_type": "execute_result"
    }
   ],
   "source": [
    "pred_labels.max(), pred_labels.min()"
   ]
  },
  {
   "cell_type": "markdown",
   "metadata": {
    "colab_type": "text",
    "id": "NB-52MiTgXjJ"
   },
   "source": [
    "Ok, but in which positions can we find all the misclassifications?"
   ]
  },
  {
   "cell_type": "code",
   "execution_count": 0,
   "metadata": {
    "colab": {
     "autoexec": {
      "startup": false,
      "wait_interval": 0
     }
    },
    "colab_type": "code",
    "collapsed": true,
    "id": "2s3hCufsgXjJ"
   },
   "outputs": [],
   "source": [
    "wrong_pos = np.where(test_labels != pred_labels)[0]"
   ]
  },
  {
   "cell_type": "code",
   "execution_count": 50,
   "metadata": {
    "colab": {
     "autoexec": {
      "startup": false,
      "wait_interval": 0
     },
     "base_uri": "https://localhost:8080/",
     "height": 35
    },
    "colab_type": "code",
    "executionInfo": {
     "elapsed": 426,
     "status": "ok",
     "timestamp": 1531567202445,
     "user": {
      "displayName": "Israel Herraiz",
      "photoUrl": "https://lh3.googleusercontent.com/a/default-user=s128",
      "userId": "114232750363927198683"
     },
     "user_tz": -120
    },
    "id": "SQH-YxpphJhO",
    "outputId": "144c54bf-cc0b-43c6-8115-36533917a328"
   },
   "outputs": [
    {
     "data": {
      "text/plain": [
       "(162,)"
      ]
     },
     "execution_count": 50,
     "metadata": {
      "tags": []
     },
     "output_type": "execute_result"
    }
   ],
   "source": [
    "wrong_pos.shape"
   ]
  },
  {
   "cell_type": "markdown",
   "metadata": {
    "colab_type": "text",
    "id": "E1j7JqJRgXjL"
   },
   "source": [
    "_**EXERCISE 6**_: Some digits are more difficult to recognize than others. Because we know the test labels, we can find out how many times the corresponding test images are misclassified. Could you find what are the top 3 test labels that are more often misclassified?"
   ]
  },
  {
   "cell_type": "markdown",
   "metadata": {
    "colab_type": "text",
    "id": "7GNaSnFYgXjM"
   },
   "source": [
    "Let's check some wrong predictions"
   ]
  },
  {
   "cell_type": "code",
   "execution_count": 51,
   "metadata": {
    "colab": {
     "autoexec": {
      "startup": false,
      "wait_interval": 0
     },
     "base_uri": "https://localhost:8080/",
     "height": 277
    },
    "colab_type": "code",
    "executionInfo": {
     "elapsed": 462,
     "status": "ok",
     "timestamp": 1531567288486,
     "user": {
      "displayName": "Israel Herraiz",
      "photoUrl": "https://lh3.googleusercontent.com/a/default-user=s128",
      "userId": "114232750363927198683"
     },
     "user_tz": -120
    },
    "id": "SOCcpSxrhh-j",
    "outputId": "6aed573a-7313-41eb-dcb9-b9199decb19e"
   },
   "outputs": [
    {
     "data": {
      "text/plain": [
       "array([ 115,  151,  247,  274,  321,  340,  445,  495,  582,  613,  659,\n",
       "        684,  720,  740,  956,  965, 1014, 1039, 1044, 1112, 1156, 1226,\n",
       "       1242, 1247, 1289, 1319, 1328, 1378, 1393, 1522, 1530, 1549, 1609,\n",
       "       1621, 1670, 1681, 1709, 1717, 1828, 1901, 1941, 2024, 2043, 2053,\n",
       "       2070, 2109, 2118, 2130, 2135, 2224, 2272, 2291, 2293, 2299, 2369,\n",
       "       2387, 2488, 2597, 2607, 2648, 2654, 2771, 2810, 2836, 2877, 2896,\n",
       "       2921, 2939, 2953, 2995, 3060, 3062, 3073, 3289, 3422, 3475, 3503,\n",
       "       3520, 3558, 3597, 3604, 3727, 3749, 3776, 3796, 3808, 3818, 3838,\n",
       "       3853, 3902, 3941, 3943, 4027, 4065, 4140, 4163, 4199, 4224, 4248,\n",
       "       4289, 4360, 4497, 4504, 4536, 4740, 4761, 4807, 4814, 4823, 4860,\n",
       "       4876, 4880, 4966, 5138, 5457, 5642, 5676, 5734, 5887, 5926, 5936,\n",
       "       5937, 5955, 5973, 5997, 6011, 6024, 6059, 6173, 6555, 6571, 6574,\n",
       "       6597, 6625, 6641, 6755, 6783, 6847, 7216, 7434, 8094, 8198, 8246,\n",
       "       8325, 8520, 8527, 9009, 9015, 9024, 9280, 9587, 9634, 9664, 9679,\n",
       "       9729, 9742, 9745, 9749, 9770, 9808, 9839, 9982])"
      ]
     },
     "execution_count": 51,
     "metadata": {
      "tags": []
     },
     "output_type": "execute_result"
    }
   ],
   "source": [
    "wrong_pos"
   ]
  },
  {
   "cell_type": "code",
   "execution_count": 55,
   "metadata": {
    "colab": {
     "autoexec": {
      "startup": false,
      "wait_interval": 0
     },
     "base_uri": "https://localhost:8080/",
     "height": 459
    },
    "colab_type": "code",
    "executionInfo": {
     "elapsed": 403,
     "status": "ok",
     "timestamp": 1531567384547,
     "user": {
      "displayName": "Israel Herraiz",
      "photoUrl": "https://lh3.googleusercontent.com/a/default-user=s128",
      "userId": "114232750363927198683"
     },
     "user_tz": -120
    },
    "id": "yIxsp8p8gXjM",
    "outputId": "1b9fc674-312b-4a96-aa56-28fc06a987ec"
   },
   "outputs": [
    {
     "name": "stdout",
     "output_type": "stream",
     "text": [
      "The image below should show the number 4\n"
     ]
    },
    {
     "data": {
      "image/png": "[encoded data removed]",
      "text/plain": [
       "<matplotlib.figure.Figure at 0x7f6a224cf8d0>"
      ]
     },
     "metadata": {
      "tags": []
     },
     "output_type": "display_data"
    }
   ],
   "source": [
    "plot_mnist_image(115, test_imgs, test_labels)"
   ]
  },
  {
   "cell_type": "code",
   "execution_count": 56,
   "metadata": {
    "colab": {
     "autoexec": {
      "startup": false,
      "wait_interval": 0
     },
     "base_uri": "https://localhost:8080/",
     "height": 35
    },
    "colab_type": "code",
    "executionInfo": {
     "elapsed": 478,
     "status": "ok",
     "timestamp": 1531567397123,
     "user": {
      "displayName": "Israel Herraiz",
      "photoUrl": "https://lh3.googleusercontent.com/a/default-user=s128",
      "userId": "114232750363927198683"
     },
     "user_tz": -120
    },
    "id": "R8mTvOrWgXjP",
    "outputId": "41764c9f-6d7a-44f6-dc82-699c0a7c4c8d"
   },
   "outputs": [
    {
     "data": {
      "text/plain": [
       "9"
      ]
     },
     "execution_count": 56,
     "metadata": {
      "tags": []
     },
     "output_type": "execute_result"
    }
   ],
   "source": [
    "pred_labels[115]"
   ]
  },
  {
   "cell_type": "markdown",
   "metadata": {
    "colab_type": "text",
    "id": "NWv85kiRgXjR"
   },
   "source": [
    "These are the items that are wrongly classified:"
   ]
  },
  {
   "cell_type": "code",
   "execution_count": 0,
   "metadata": {
    "colab": {
     "autoexec": {
      "startup": false,
      "wait_interval": 0
     }
    },
    "colab_type": "code",
    "collapsed": true,
    "id": "6xibIWnxgXjS"
   },
   "outputs": [],
   "source": [
    "wrong_preds = test_labels[wrong_pos]"
   ]
  },
  {
   "cell_type": "code",
   "execution_count": 61,
   "metadata": {
    "colab": {
     "autoexec": {
      "startup": false,
      "wait_interval": 0
     },
     "base_uri": "https://localhost:8080/",
     "height": 35
    },
    "colab_type": "code",
    "executionInfo": {
     "elapsed": 529,
     "status": "ok",
     "timestamp": 1531567509458,
     "user": {
      "displayName": "Israel Herraiz",
      "photoUrl": "https://lh3.googleusercontent.com/a/default-user=s128",
      "userId": "114232750363927198683"
     },
     "user_tz": -120
    },
    "id": "lhfAU6Y5iJYY",
    "outputId": "da1a3160-d2d9-4294-eaeb-d834e6d6ded9"
   },
   "outputs": [
    {
     "data": {
      "text/plain": [
       "(162,)"
      ]
     },
     "execution_count": 61,
     "metadata": {
      "tags": []
     },
     "output_type": "execute_result"
    }
   ],
   "source": [
    "wrong_preds.shape"
   ]
  },
  {
   "cell_type": "code",
   "execution_count": 62,
   "metadata": {
    "colab": {
     "autoexec": {
      "startup": false,
      "wait_interval": 0
     },
     "base_uri": "https://localhost:8080/",
     "height": 35
    },
    "colab_type": "code",
    "executionInfo": {
     "elapsed": 432,
     "status": "ok",
     "timestamp": 1531567510821,
     "user": {
      "displayName": "Israel Herraiz",
      "photoUrl": "https://lh3.googleusercontent.com/a/default-user=s128",
      "userId": "114232750363927198683"
     },
     "user_tz": -120
    },
    "id": "8g6TSp2piLHA",
    "outputId": "f60b468e-cbde-4b29-9052-246ec8def212"
   },
   "outputs": [
    {
     "data": {
      "text/plain": [
       "array([7, 7, 4, 9, 5, 8, 7, 5, 5, 7], dtype=uint8)"
      ]
     },
     "execution_count": 62,
     "metadata": {
      "tags": []
     },
     "output_type": "execute_result"
    }
   ],
   "source": [
    "wrong_preds[20:30]"
   ]
  },
  {
   "cell_type": "code",
   "execution_count": 0,
   "metadata": {
    "colab": {
     "autoexec": {
      "startup": false,
      "wait_interval": 0
     }
    },
    "colab_type": "code",
    "collapsed": true,
    "id": "TLDISJhOieol"
   },
   "outputs": [],
   "source": [
    "import pandas as pd"
   ]
  },
  {
   "cell_type": "code",
   "execution_count": 0,
   "metadata": {
    "colab": {
     "autoexec": {
      "startup": false,
      "wait_interval": 0
     }
    },
    "colab_type": "code",
    "collapsed": true,
    "id": "71G1Ujd-igX9"
   },
   "outputs": [],
   "source": [
    "s = pd.DataFrame(np.bincount(wrong_preds))"
   ]
  },
  {
   "cell_type": "code",
   "execution_count": 72,
   "metadata": {
    "colab": {
     "autoexec": {
      "startup": false,
      "wait_interval": 0
     },
     "base_uri": "https://localhost:8080/",
     "height": 454
    },
    "colab_type": "code",
    "executionInfo": {
     "elapsed": 637,
     "status": "ok",
     "timestamp": 1531567777093,
     "user": {
      "displayName": "Israel Herraiz",
      "photoUrl": "https://lh3.googleusercontent.com/a/default-user=s128",
      "userId": "114232750363927198683"
     },
     "user_tz": -120
    },
    "id": "pmEL9HxUiu9k",
    "outputId": "0cfa0af5-85c8-4ac4-9b54-8546a226630f"
   },
   "outputs": [
    {
     "data": {
      "text/plain": [
       "<matplotlib.axes._subplots.AxesSubplot at 0x7f6a2236b4e0>"
      ]
     },
     "execution_count": 72,
     "metadata": {
      "tags": []
     },
     "output_type": "execute_result"
    },
    {
     "data": {
      "image/png": "[encoded data removed]",
      "text/plain": [
       "<matplotlib.figure.Figure at 0x7f6a220bedd8>"
      ]
     },
     "metadata": {
      "tags": []
     },
     "output_type": "display_data"
    }
   ],
   "source": [
    "s.plot.bar()"
   ]
  },
  {
   "cell_type": "markdown",
   "metadata": {
    "colab_type": "text",
    "id": "xLkClhYcgXjU"
   },
   "source": [
    "So we see that $9$ is wrongly classified more than the rest. But does it mean that our model has more difficulties recognizing 9s?"
   ]
  },
  {
   "cell_type": "code",
   "execution_count": 73,
   "metadata": {
    "colab": {
     "autoexec": {
      "startup": false,
      "wait_interval": 0
     },
     "base_uri": "https://localhost:8080/",
     "height": 202
    },
    "colab_type": "code",
    "executionInfo": {
     "elapsed": 598,
     "status": "ok",
     "timestamp": 1531567995216,
     "user": {
      "displayName": "Israel Herraiz",
      "photoUrl": "https://lh3.googleusercontent.com/a/default-user=s128",
      "userId": "114232750363927198683"
     },
     "user_tz": -120
    },
    "id": "J7bH9qqRgXjU",
    "outputId": "4292ff85-aa80-4d96-cfe2-e24fce072b03"
   },
   "outputs": [
    {
     "data": {
      "text/html": [
       "<div>\n",
       "<style scoped>\n",
       "    .dataframe tbody tr th:only-of-type {\n",
       "        vertical-align: middle;\n",
       "    }\n",
       "\n",
       "    .dataframe tbody tr th {\n",
       "        vertical-align: top;\n",
       "    }\n",
       "\n",
       "    .dataframe thead th {\n",
       "        text-align: right;\n",
       "    }\n",
       "</style>\n",
       "<table border=\"1\" class=\"dataframe\">\n",
       "  <thead>\n",
       "    <tr style=\"text-align: right;\">\n",
       "      <th></th>\n",
       "      <th>0</th>\n",
       "    </tr>\n",
       "  </thead>\n",
       "  <tbody>\n",
       "    <tr>\n",
       "      <th>0</th>\n",
       "      <td>8</td>\n",
       "    </tr>\n",
       "    <tr>\n",
       "      <th>1</th>\n",
       "      <td>5</td>\n",
       "    </tr>\n",
       "    <tr>\n",
       "      <th>2</th>\n",
       "      <td>16</td>\n",
       "    </tr>\n",
       "    <tr>\n",
       "      <th>3</th>\n",
       "      <td>15</td>\n",
       "    </tr>\n",
       "    <tr>\n",
       "      <th>4</th>\n",
       "      <td>21</td>\n",
       "    </tr>\n",
       "  </tbody>\n",
       "</table>\n",
       "</div>"
      ],
      "text/plain": [
       "    0\n",
       "0   8\n",
       "1   5\n",
       "2  16\n",
       "3  15\n",
       "4  21"
      ]
     },
     "execution_count": 73,
     "metadata": {
      "tags": []
     },
     "output_type": "execute_result"
    }
   ],
   "source": [
    "s.head(5)"
   ]
  },
  {
   "cell_type": "code",
   "execution_count": 0,
   "metadata": {
    "colab": {
     "autoexec": {
      "startup": false,
      "wait_interval": 0
     }
    },
    "colab_type": "code",
    "collapsed": true,
    "id": "tzGtUzNWkTHP"
   },
   "outputs": [],
   "source": [
    "n = pd.DataFrame(np.bincount(test_labels))"
   ]
  },
  {
   "cell_type": "code",
   "execution_count": 75,
   "metadata": {
    "colab": {
     "autoexec": {
      "startup": false,
      "wait_interval": 0
     },
     "base_uri": "https://localhost:8080/",
     "height": 202
    },
    "colab_type": "code",
    "executionInfo": {
     "elapsed": 1582,
     "status": "ok",
     "timestamp": 1531568041454,
     "user": {
      "displayName": "Israel Herraiz",
      "photoUrl": "https://lh3.googleusercontent.com/a/default-user=s128",
      "userId": "114232750363927198683"
     },
     "user_tz": -120
    },
    "id": "2ytT9lDlkYj9",
    "outputId": "2548d963-7c40-467b-a103-eee933077c8c"
   },
   "outputs": [
    {
     "data": {
      "text/html": [
       "<div>\n",
       "<style scoped>\n",
       "    .dataframe tbody tr th:only-of-type {\n",
       "        vertical-align: middle;\n",
       "    }\n",
       "\n",
       "    .dataframe tbody tr th {\n",
       "        vertical-align: top;\n",
       "    }\n",
       "\n",
       "    .dataframe thead th {\n",
       "        text-align: right;\n",
       "    }\n",
       "</style>\n",
       "<table border=\"1\" class=\"dataframe\">\n",
       "  <thead>\n",
       "    <tr style=\"text-align: right;\">\n",
       "      <th></th>\n",
       "      <th>0</th>\n",
       "    </tr>\n",
       "  </thead>\n",
       "  <tbody>\n",
       "    <tr>\n",
       "      <th>0</th>\n",
       "      <td>980</td>\n",
       "    </tr>\n",
       "    <tr>\n",
       "      <th>1</th>\n",
       "      <td>1135</td>\n",
       "    </tr>\n",
       "    <tr>\n",
       "      <th>2</th>\n",
       "      <td>1032</td>\n",
       "    </tr>\n",
       "    <tr>\n",
       "      <th>3</th>\n",
       "      <td>1010</td>\n",
       "    </tr>\n",
       "    <tr>\n",
       "      <th>4</th>\n",
       "      <td>982</td>\n",
       "    </tr>\n",
       "  </tbody>\n",
       "</table>\n",
       "</div>"
      ],
      "text/plain": [
       "      0\n",
       "0   980\n",
       "1  1135\n",
       "2  1032\n",
       "3  1010\n",
       "4   982"
      ]
     },
     "execution_count": 75,
     "metadata": {
      "tags": []
     },
     "output_type": "execute_result"
    }
   ],
   "source": [
    "n.head(5)"
   ]
  },
  {
   "cell_type": "code",
   "execution_count": 0,
   "metadata": {
    "colab": {
     "autoexec": {
      "startup": false,
      "wait_interval": 0
     }
    },
    "colab_type": "code",
    "collapsed": true,
    "id": "V90_DqYIkhu5"
   },
   "outputs": [],
   "source": [
    "f = s/n*100"
   ]
  },
  {
   "cell_type": "code",
   "execution_count": 79,
   "metadata": {
    "colab": {
     "autoexec": {
      "startup": false,
      "wait_interval": 0
     },
     "base_uri": "https://localhost:8080/",
     "height": 202
    },
    "colab_type": "code",
    "executionInfo": {
     "elapsed": 408,
     "status": "ok",
     "timestamp": 1531568110724,
     "user": {
      "displayName": "Israel Herraiz",
      "photoUrl": "https://lh3.googleusercontent.com/a/default-user=s128",
      "userId": "114232750363927198683"
     },
     "user_tz": -120
    },
    "id": "lqYkfbxHkpI4",
    "outputId": "36b37e4d-c41f-4531-8450-85e4a111e292"
   },
   "outputs": [
    {
     "data": {
      "text/html": [
       "<div>\n",
       "<style scoped>\n",
       "    .dataframe tbody tr th:only-of-type {\n",
       "        vertical-align: middle;\n",
       "    }\n",
       "\n",
       "    .dataframe tbody tr th {\n",
       "        vertical-align: top;\n",
       "    }\n",
       "\n",
       "    .dataframe thead th {\n",
       "        text-align: right;\n",
       "    }\n",
       "</style>\n",
       "<table border=\"1\" class=\"dataframe\">\n",
       "  <thead>\n",
       "    <tr style=\"text-align: right;\">\n",
       "      <th></th>\n",
       "      <th>0</th>\n",
       "    </tr>\n",
       "  </thead>\n",
       "  <tbody>\n",
       "    <tr>\n",
       "      <th>0</th>\n",
       "      <td>0.816327</td>\n",
       "    </tr>\n",
       "    <tr>\n",
       "      <th>1</th>\n",
       "      <td>0.440529</td>\n",
       "    </tr>\n",
       "    <tr>\n",
       "      <th>2</th>\n",
       "      <td>1.550388</td>\n",
       "    </tr>\n",
       "    <tr>\n",
       "      <th>3</th>\n",
       "      <td>1.485149</td>\n",
       "    </tr>\n",
       "    <tr>\n",
       "      <th>4</th>\n",
       "      <td>2.138493</td>\n",
       "    </tr>\n",
       "  </tbody>\n",
       "</table>\n",
       "</div>"
      ],
      "text/plain": [
       "          0\n",
       "0  0.816327\n",
       "1  0.440529\n",
       "2  1.550388\n",
       "3  1.485149\n",
       "4  2.138493"
      ]
     },
     "execution_count": 79,
     "metadata": {
      "tags": []
     },
     "output_type": "execute_result"
    }
   ],
   "source": [
    "f.head()"
   ]
  },
  {
   "cell_type": "code",
   "execution_count": 80,
   "metadata": {
    "colab": {
     "autoexec": {
      "startup": false,
      "wait_interval": 0
     },
     "base_uri": "https://localhost:8080/",
     "height": 454
    },
    "colab_type": "code",
    "executionInfo": {
     "elapsed": 964,
     "status": "ok",
     "timestamp": 1531568126652,
     "user": {
      "displayName": "Israel Herraiz",
      "photoUrl": "https://lh3.googleusercontent.com/a/default-user=s128",
      "userId": "114232750363927198683"
     },
     "user_tz": -120
    },
    "id": "Hq0bdtZxkuSK",
    "outputId": "c154df6b-579d-407c-89ca-76358b2a1899"
   },
   "outputs": [
    {
     "data": {
      "text/plain": [
       "<matplotlib.axes._subplots.AxesSubplot at 0x7f6a22572198>"
      ]
     },
     "execution_count": 80,
     "metadata": {
      "tags": []
     },
     "output_type": "execute_result"
    },
    {
     "data": {
      "image/png": "[encoded data removed]",
      "text/plain": [
       "<matplotlib.figure.Figure at 0x7f6a224cf240>"
      ]
     },
     "metadata": {
      "tags": []
     },
     "output_type": "display_data"
    }
   ],
   "source": [
    "f.plot.bar()"
   ]
  },
  {
   "cell_type": "markdown",
   "metadata": {
    "colab_type": "text",
    "id": "cQh1jgRIgXjX"
   },
   "source": [
    "Our model has the most difficulties recognizing 9s, 5s and 4s"
   ]
  },
  {
   "cell_type": "code",
   "execution_count": 0,
   "metadata": {
    "colab": {
     "autoexec": {
      "startup": false,
      "wait_interval": 0
     }
    },
    "colab_type": "code",
    "collapsed": true,
    "id": "mjq123PagXjY"
   },
   "outputs": [],
   "source": []
  }
 ],
 "metadata": {
  "accelerator": "GPU",
  "colab": {
   "collapsed_sections": [],
   "default_view": {},
   "name": "02_mnist_digits_before_class.ipynb",
   "provenance": [],
   "version": "0.3.2",
   "views": {}
  },
  "kernelspec": {
   "display_name": "Python 3",
   "language": "python",
   "name": "python3"
  },
  "language_info": {
   "codemirror_mode": {
    "name": "ipython",
    "version": 3
   },
   "file_extension": ".py",
   "mimetype": "text/x-python",
   "name": "python",
   "nbconvert_exporter": "python",
   "pygments_lexer": "ipython3",
   "version": "3.6.3"
  }
 },
 "nbformat": 4,
 "nbformat_minor": 1
}
